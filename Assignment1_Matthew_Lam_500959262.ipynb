{
  "nbformat": 4,
  "nbformat_minor": 0,
  "metadata": {
    "colab": {
      "provenance": [],
      "authorship_tag": "ABX9TyPKvib1yxyZnihS/jKRy27b",
      "include_colab_link": true
    },
    "kernelspec": {
      "name": "python3",
      "display_name": "Python 3"
    },
    "language_info": {
      "name": "python"
    }
  },
  "cells": [
    {
      "cell_type": "markdown",
      "metadata": {
        "id": "view-in-github",
        "colab_type": "text"
      },
      "source": [
        "<a href=\"https://colab.research.google.com/github/MatthewLamBok/BME_8603/blob/main/Assignment1_Matthew_Lam_500959262.ipynb\" target=\"_parent\"><img src=\"https://colab.research.google.com/assets/colab-badge.svg\" alt=\"Open In Colab\"/></a>"
      ]
    },
    {
      "cell_type": "markdown",
      "source": [
        "0. In this problem you are required to write two programs using the method of bisection.\n",
        "\n",
        "(a) In this part you are required to write a Python script that finds the root of the equation e x = 10 – 2x accurate to 6\n",
        "decimal places.\n",
        "Let f(x) = e x - 10 + 2x. Note that f(1) and f(3) have opposite signs. This means that there is at least one root in\n",
        "the interval (1, 3). We shall use these two points as the initial points.\n",
        "Let xa=1 and xb=3. Write a loop that computes the midpoint xm of these two points. Print xm. Now evaluate\n",
        "f(xm). Now you need to choose two points out of the three points: xa, xb, xm, where f has opposite signs,\n",
        "but one of those points must be xm. This means you are going to replace one of xa or xb with xm and go to\n",
        "the beginning of the loop. Do this test and write either xa=xm or xb=xm based on the signs above. Now the\n",
        "loop repeats these actions.\n",
        "First make a loop that runs 10 times and see if your program is correct. Now re-write your program so that it\n",
        "stops when the desired accuracy is obtained. Do not email me about how to stop the loop when the desired\n",
        "accuracy is obtained. There are few ways of doing this, and you should know these from your undergraduate\n",
        "studies.\n",
        "\n",
        "(b) Use the knowledge you gained in part(a) to write a program that uses the method of bisection to find the\n",
        "intersection of the line segment connecting (1, 2, 3) and (3, 4, 5), with the plane 2x + 3y + 4z = 30. The\n",
        "coordinates of the required point should be accurate to 5 decimal places. Your program should print the\n",
        "coordinates after every iteration of the loop."
      ],
      "metadata": {
        "id": "CSW8PZQaD24A"
      }
    },
    {
      "cell_type": "code",
      "source": [
        "# Part (a)\n",
        "import math\n",
        "\n",
        "def f(x):\n",
        "   return math.exp(x) - 10 + 2*x\n",
        "\n",
        "xa = 1\n",
        "xb = 3\n",
        "\n",
        "#Write a loop that computes the midpoint xm of these two points. Print xm.\n",
        "for i in range(10):\n",
        "   xm = (xa + xb) / 2\n",
        "   print(f\"xm = {xm:.6f}\")\n",
        "print(\"=======================================\")\n",
        "#Now you need to choose two points out of the three points: xa, xb, xm, where f has opposite signs, but one of those points must be xm.\n",
        "#This means you are going to replace one of xa or xb with xm and go to the beginning of the loop. Do this test and write either xa=xm or xb=xm based on the signs above.\n",
        "for i in range(10):\n",
        "   xm = (xa + xb) / 2\n",
        "\n",
        "\n",
        "   if f(xa) * f(xm) < 0:\n",
        "       xb = xm\n",
        "   else:\n",
        "       xa = xm\n",
        "   print(f\"xm = {xm:.6f}\")\n",
        "\n",
        "print(\"After 10 iterations:\")\n",
        "print(f\"xa = {xa:.6f}, xb = {xb:.6f}\")\n",
        "print(\"=======================================\")\n",
        "# Now re-write your program so that it stops when the desired accuracy is obtained.\n",
        "tolerance = 1e-6\n",
        "while abs(xb - xa) > tolerance:\n",
        "   xm = (xa + xb) / 2\n",
        "\n",
        "   if f(xa) * f(xm) < 0:\n",
        "       xb = xm\n",
        "   else:\n",
        "       xa = xm\n",
        "\n",
        "print(\"Root with desired accuracy:\")\n",
        "print(f\"x = {xm:.6f}\")\n",
        "print(\"=======================================\")"
      ],
      "metadata": {
        "colab": {
          "base_uri": "https://localhost:8080/"
        },
        "id": "AjIj1LplD-F3",
        "outputId": "dbca1c25-1668-4ce1-d616-19b0592eb8bb"
      },
      "execution_count": 17,
      "outputs": [
        {
          "output_type": "stream",
          "name": "stdout",
          "text": [
            "xm = 2.000000\n",
            "xm = 2.000000\n",
            "xm = 2.000000\n",
            "xm = 2.000000\n",
            "xm = 2.000000\n",
            "xm = 2.000000\n",
            "xm = 2.000000\n",
            "xm = 2.000000\n",
            "xm = 2.000000\n",
            "xm = 2.000000\n",
            "=======================================\n",
            "xm = 2.000000\n",
            "xm = 1.500000\n",
            "xm = 1.750000\n",
            "xm = 1.875000\n",
            "xm = 1.812500\n",
            "xm = 1.843750\n",
            "xm = 1.828125\n",
            "xm = 1.835938\n",
            "xm = 1.839844\n",
            "xm = 1.841797\n",
            "After 10 iterations:\n",
            "xa = 1.841797, xb = 1.843750\n",
            "=======================================\n",
            "Root with desired accuracy:\n",
            "x = 1.842824\n",
            "=======================================\n"
          ]
        }
      ]
    },
    {
      "cell_type": "code",
      "source": [
        "def plane_eq(x, y, z):\n",
        "    return 2*x + 3*y + 4*z - 30\n",
        "\n",
        "def line_segment_point(t):\n",
        "    x = 1 + 2*t\n",
        "    y = 2 + 2*t\n",
        "    z = 3 + 2*t\n",
        "    return (x, y, z)\n",
        "\n",
        "def f(t):\n",
        "    x, y, z = line_segment_point(t)\n",
        "    return plane_eq(x, y, z)\n",
        "\n",
        "\n",
        "tolerance = 1e-6\n",
        "t1, t2 = 0, 1\n",
        "\n",
        "\n",
        "\n",
        "print(\"=======================================\")\n",
        "for i in range(10):\n",
        "    tm = (t1 + t2) / 2\n",
        "    f_t1 = f(t1)\n",
        "    f_tm = f(tm)\n",
        "\n",
        "    if f_t1 * f_tm < 0:\n",
        "        t2 = tm\n",
        "    else:\n",
        "        t1 = tm\n",
        "\n",
        "    x, y, z = line_segment_point(tm)\n",
        "    print(f\"Iteration {i+1}: t = {tm:.6f}, Point = ({x:.6f}, {y:.6f}, {z:.6f})\")\n",
        "\n",
        "print(\"After 10 iterations:\")\n",
        "x, y, z = line_segment_point(tm)\n",
        "print(f\"Point = ({x:.6f}, {y:.6f}, {z:.6f})\")\n",
        "\n",
        "print(\"=======================================\")\n",
        "while abs(t2 - t1) > tolerance:\n",
        "    tm = (t1 + t2) / 2\n",
        "    if f(t1) * f(tm) < 0:\n",
        "        t2 = tm\n",
        "    else:\n",
        "        t1 = tm\n",
        "\n",
        "\n",
        "x, y, z = line_segment_point(tm)\n",
        "print(\"Intersection point with desired accuracy:\")\n",
        "print(f\"Point = ({x:.5f}, {y:.5f}, {z:.5f})\")\n"
      ],
      "metadata": {
        "colab": {
          "base_uri": "https://localhost:8080/"
        },
        "id": "1V4aIF40E1pk",
        "outputId": "efd722b2-1084-42f8-a995-1fb9fb3e3936"
      },
      "execution_count": 13,
      "outputs": [
        {
          "output_type": "stream",
          "name": "stdout",
          "text": [
            "Iteration 1: t = 0.500000, Point = (2.000000, 3.000000, 4.000000)\n",
            "Iteration 2: t = 0.750000, Point = (2.500000, 3.500000, 4.500000)\n",
            "Iteration 3: t = 0.625000, Point = (2.250000, 3.250000, 4.250000)\n",
            "Iteration 4: t = 0.562500, Point = (2.125000, 3.125000, 4.125000)\n",
            "Iteration 5: t = 0.531250, Point = (2.062500, 3.062500, 4.062500)\n",
            "Iteration 6: t = 0.546875, Point = (2.093750, 3.093750, 4.093750)\n",
            "Iteration 7: t = 0.554688, Point = (2.109375, 3.109375, 4.109375)\n",
            "Iteration 8: t = 0.558594, Point = (2.117188, 3.117188, 4.117188)\n",
            "Iteration 9: t = 0.556641, Point = (2.113281, 3.113281, 4.113281)\n",
            "Iteration 10: t = 0.555664, Point = (2.111328, 3.111328, 4.111328)\n",
            "After 10 iterations:\n",
            "Point = (2.111328, 3.111328, 4.111328)\n",
            "Intersection point with desired accuracy:\n",
            "Point = (2.11111, 3.11111, 4.11111)\n"
          ]
        }
      ]
    }
  ]
}