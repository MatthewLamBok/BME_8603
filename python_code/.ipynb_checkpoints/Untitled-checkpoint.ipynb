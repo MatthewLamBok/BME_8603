{
 "cells": [
  {
   "cell_type": "code",
   "execution_count": null,
   "id": "21f529f3-50f1-445c-ad75-3e4fa22f6f97",
   "metadata": {},
   "outputs": [],
   "source": [
    "import pandas as pd\n",
    "from sklearn.preprocessing import StandardScaler, MinMaxScaler\n",
    "from sklearn.model_selection import train_test_split\n",
    "from imblearn.over_sampling import SMOTE\n",
    "import matplotlib.pyplot as plt\n",
    "from pycaret.classification import *\n",
    "from pycaret.classification import *\n",
    "from sklearn.preprocessing import StandardScaler, PolynomialFeatures\n",
    "from sklearn.compose import ColumnTransformer\n",
    "from sklearn.model_selection import train_test_split\n",
    "from sklearn.feature_selection import SelectKBest, f_classif\n",
    "import function_script"
   ]
  },
  {
   "cell_type": "code",
   "execution_count": null,
   "id": "f5c9197f-462a-4470-b022-c8587deb399a",
   "metadata": {},
   "outputs": [],
   "source": [
    "if __name__ == \"__main__\":\n",
    "    #Parameter\n",
    "    target_csv  = 'abalone'#['abalone','50_50', 'fill']\n",
    "    ground_truth = 'Sex' #['Sex', 'Diabetes_binary']\n",
    "    Prediction_label = 'All' #['M_F', 'All'] \n",
    "    display_bool = False\n",
    "    rand_seed = 42\n",
    "    #1.1 Load ============================================================\n",
    "    if target_csv == 'fill':\n",
    "        df = pd.read_csv('../data/diabetes_binary_health_indicators_BRFSS2015.csv')\n",
    "    if target_csv == '50_50':\n",
    "        df = pd.read_csv('../data/diabetes_binary_5050split_health_indicators_BRFSS2015.csv')\n",
    "    if target_csv == 'abalone':\n",
    "        df = pd.read_csv('../data/abalone.csv')\n",
    "\n",
    "    #2.1 Load Label ['M_F', 'All']  ============================================================        \n",
    "    if target_csv == 'abalone' and Prediction_label == 'M_F':\n",
    "        df = df[df['Sex'] != 'I']\n",
    "    print(df)\n",
    "\n",
    "    # Polynomial Features for interactions (degree 2 for example)\n",
    "    poly = PolynomialFeatures(degree=2, include_bias=False, interaction_only=True)\n",
    "    continuous_columns = ['Length', 'Diameter', 'Height', 'Whole_weight', 'Shucked_weight', 'Viscera_weight', 'Shell_weight']\n",
    "    df_poly = poly.fit_transform(df[continuous_columns])\n",
    "    poly_features = poly.get_feature_names_out(continuous_columns)  # Updated line here\n",
    "    df_poly = pd.DataFrame(df_poly, columns=poly_features)\n",
    "    \n",
    "    # Concatenate the new polynomial features to the original dataframe\n",
    "    df = pd.concat([df, df_poly], axis=1)\n",
    "    \n",
    "    # Feature Selection\n",
    "    # Since we now have many features, we can use SelectKBest to choose the top k features that have the strongest relationships with the target variable\n",
    "    selector = SelectKBest(f_classif, k=10)  # Let's assume we want to keep the top 10 features for now\n",
    "    X_new = selector.fit_transform(df.drop('Sex', axis=1), df['Sex'])\n",
    "    selected_features = df.drop('Sex', axis=1).columns[selector.get_support()]\n",
    "    \n",
    "    # Now create a new DataFrame with selected features\n",
    "    df= df[selected_features]\n",
    "    print(df)\n",
    "\n",
    "    #3.1 Machine learning ============================================================\n",
    "    #3.2 Splitting 60/20/20\n",
    "   \n",
    "    train_val_data, test_data = train_test_split(df, test_size=0.2, random_state=rand_seed) #split 80/20\n",
    "    print(train_val_data.shape, test_data.shape)"
   ]
  }
 ],
 "metadata": {
  "kernelspec": {
   "display_name": "Python 3 (ipykernel)",
   "language": "python",
   "name": "python3"
  },
  "language_info": {
   "codemirror_mode": {
    "name": "ipython",
    "version": 3
   },
   "file_extension": ".py",
   "mimetype": "text/x-python",
   "name": "python",
   "nbconvert_exporter": "python",
   "pygments_lexer": "ipython3",
   "version": "3.8.18"
  }
 },
 "nbformat": 4,
 "nbformat_minor": 5
}
