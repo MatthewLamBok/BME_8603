{
 "cells": [
  {
   "cell_type": "code",
   "execution_count": 27,
   "id": "61ed24c5-a081-4527-89b3-0ee2fb20b556",
   "metadata": {},
   "outputs": [],
   "source": [
    "import pandas as pd\n",
    "from sklearn.preprocessing import StandardScaler, MinMaxScaler\n",
    "from sklearn.model_selection import train_test_split\n",
    "from imblearn.over_sampling import SMOTE\n",
    "import matplotlib.pyplot as plt\n",
    "from pycaret.classification import *\n",
    "from pycaret.classification import *\n",
    "from sklearn.preprocessing import StandardScaler, PolynomialFeatures\n",
    "from sklearn.compose import ColumnTransformer\n",
    "from sklearn.model_selection import train_test_split\n",
    "from sklearn.feature_selection import SelectKBest, f_classif\n",
    "import function_script\n",
    "from sklearn.tree import plot_tree\n",
    "import xgboost \n",
    "import catboost\n",
    "from pycaret.classification import setup, compare_models\n",
    "import numpy as np\n",
    "import os\n",
    "from sklearn.metrics import confusion_matrix, classification_report, accuracy_score,precision_score,recall_score,f1_score"
   ]
  },
  {
   "cell_type": "code",
   "execution_count": 42,
   "id": "d373f5a9-70da-4801-b3b3-9044c9b972cb",
   "metadata": {},
   "outputs": [
    {
     "name": "stdout",
     "output_type": "stream",
     "text": [
      "['M' 'F' 'I']\n"
     ]
    }
   ],
   "source": [
    "\n",
    "if __name__ == \"__main__\":\n",
    "    #Parameter\n",
    "    target_csv  = 'abalone'#['abalone','50_50', 'fill']\n",
    "    ground_truth = 'Sex' #['Sex', 'Diabetes_binary']\n",
    "    Prediction_label = 'All' #['M_F', 'All', 'M', 'F', 'I'] \n",
    "    split = '60_20_20' #['60_20_20', '80_10_10'] \n",
    "    display_bool = False\n",
    "    rand_seed = 29\n",
    "    num_of_models = 3\n",
    "    save_figure = False\n",
    "    #1.1 Load ============================================================\n",
    "    if target_csv == 'fill':\n",
    "        df = pd.read_csv('../data/diabetes_binary_health_indicators_BRFSS2015.csv')\n",
    "    if target_csv == '50_50':\n",
    "        df = pd.read_csv('../data/diabetes_binary_5050split_health_indicators_BRFSS2015.csv')\n",
    "    if target_csv == 'abalone':\n",
    "        df = pd.read_csv('../data/abalone.csv')\n",
    "    \n",
    "    \n",
    "    #2.1 Set Label ============================================================        \n",
    "    if target_csv == 'abalone' and Prediction_label == 'M_F':  #If classifing Male or Female\n",
    "        df = df[df['Sex'] != 'I']\n",
    "    if target_csv == 'abalone' and Prediction_label == 'M': #If classifing Male or not Male\n",
    "        df['Sex'] = df['Sex'].replace(['F','I'],\"N\")\n",
    "    if target_csv == 'abalone' and Prediction_label == 'F': #If classifing Female or not Female\n",
    "        df['Sex'] = df['Sex'].replace(['M','I'],\"N\")\n",
    "    if target_csv == 'abalone' and Prediction_label == 'I': #If classifing Infant or not Infant\n",
    "        df['Sex'] = df['Sex'].replace(['M','F'],\"N\")\n",
    "    \n",
    "    \n",
    "    #2.2 Information on data =====================================\n",
    "    if display_bool == True:\n",
    "        function_script.info_display(df)\n"
   ]
  },
  {
   "cell_type": "code",
   "execution_count": 45,
   "id": "cdf8cca1-7280-4629-92e3-27ec99d4547b",
   "metadata": {},
   "outputs": [
    {
     "name": "stdout",
     "output_type": "stream",
     "text": [
      "Sex\n",
      "(3341, 9) (836, 9)\n"
     ]
    },
    {
     "data": {
      "text/html": [
       "<style type=\"text/css\">\n",
       "#T_adee9_row9_col1, #T_adee9_row13_col1, #T_adee9_row15_col1, #T_adee9_row17_col1 {\n",
       "  background-color: lightgreen;\n",
       "}\n",
       "</style>\n",
       "<table id=\"T_adee9\">\n",
       "  <thead>\n",
       "    <tr>\n",
       "      <th class=\"blank level0\" >&nbsp;</th>\n",
       "      <th id=\"T_adee9_level0_col0\" class=\"col_heading level0 col0\" >Description</th>\n",
       "      <th id=\"T_adee9_level0_col1\" class=\"col_heading level0 col1\" >Value</th>\n",
       "    </tr>\n",
       "  </thead>\n",
       "  <tbody>\n",
       "    <tr>\n",
       "      <th id=\"T_adee9_level0_row0\" class=\"row_heading level0 row0\" >0</th>\n",
       "      <td id=\"T_adee9_row0_col0\" class=\"data row0 col0\" >Session id</td>\n",
       "      <td id=\"T_adee9_row0_col1\" class=\"data row0 col1\" >29</td>\n",
       "    </tr>\n",
       "    <tr>\n",
       "      <th id=\"T_adee9_level0_row1\" class=\"row_heading level0 row1\" >1</th>\n",
       "      <td id=\"T_adee9_row1_col0\" class=\"data row1 col0\" >Target</td>\n",
       "      <td id=\"T_adee9_row1_col1\" class=\"data row1 col1\" >Sex</td>\n",
       "    </tr>\n",
       "    <tr>\n",
       "      <th id=\"T_adee9_level0_row2\" class=\"row_heading level0 row2\" >2</th>\n",
       "      <td id=\"T_adee9_row2_col0\" class=\"data row2 col0\" >Target type</td>\n",
       "      <td id=\"T_adee9_row2_col1\" class=\"data row2 col1\" >Multiclass</td>\n",
       "    </tr>\n",
       "    <tr>\n",
       "      <th id=\"T_adee9_level0_row3\" class=\"row_heading level0 row3\" >3</th>\n",
       "      <td id=\"T_adee9_row3_col0\" class=\"data row3 col0\" >Target mapping</td>\n",
       "      <td id=\"T_adee9_row3_col1\" class=\"data row3 col1\" >F: 0, I: 1, M: 2</td>\n",
       "    </tr>\n",
       "    <tr>\n",
       "      <th id=\"T_adee9_level0_row4\" class=\"row_heading level0 row4\" >4</th>\n",
       "      <td id=\"T_adee9_row4_col0\" class=\"data row4 col0\" >Original data shape</td>\n",
       "      <td id=\"T_adee9_row4_col1\" class=\"data row4 col1\" >(3341, 9)</td>\n",
       "    </tr>\n",
       "    <tr>\n",
       "      <th id=\"T_adee9_level0_row5\" class=\"row_heading level0 row5\" >5</th>\n",
       "      <td id=\"T_adee9_row5_col0\" class=\"data row5 col0\" >Transformed data shape</td>\n",
       "      <td id=\"T_adee9_row5_col1\" class=\"data row5 col1\" >(3599, 45)</td>\n",
       "    </tr>\n",
       "    <tr>\n",
       "      <th id=\"T_adee9_level0_row6\" class=\"row_heading level0 row6\" >6</th>\n",
       "      <td id=\"T_adee9_row6_col0\" class=\"data row6 col0\" >Transformed train set shape</td>\n",
       "      <td id=\"T_adee9_row6_col1\" class=\"data row6 col1\" >(2763, 45)</td>\n",
       "    </tr>\n",
       "    <tr>\n",
       "      <th id=\"T_adee9_level0_row7\" class=\"row_heading level0 row7\" >7</th>\n",
       "      <td id=\"T_adee9_row7_col0\" class=\"data row7 col0\" >Transformed test set shape</td>\n",
       "      <td id=\"T_adee9_row7_col1\" class=\"data row7 col1\" >(836, 45)</td>\n",
       "    </tr>\n",
       "    <tr>\n",
       "      <th id=\"T_adee9_level0_row8\" class=\"row_heading level0 row8\" >8</th>\n",
       "      <td id=\"T_adee9_row8_col0\" class=\"data row8 col0\" >Numeric features</td>\n",
       "      <td id=\"T_adee9_row8_col1\" class=\"data row8 col1\" >8</td>\n",
       "    </tr>\n",
       "    <tr>\n",
       "      <th id=\"T_adee9_level0_row9\" class=\"row_heading level0 row9\" >9</th>\n",
       "      <td id=\"T_adee9_row9_col0\" class=\"data row9 col0\" >Preprocess</td>\n",
       "      <td id=\"T_adee9_row9_col1\" class=\"data row9 col1\" >True</td>\n",
       "    </tr>\n",
       "    <tr>\n",
       "      <th id=\"T_adee9_level0_row10\" class=\"row_heading level0 row10\" >10</th>\n",
       "      <td id=\"T_adee9_row10_col0\" class=\"data row10 col0\" >Imputation type</td>\n",
       "      <td id=\"T_adee9_row10_col1\" class=\"data row10 col1\" >simple</td>\n",
       "    </tr>\n",
       "    <tr>\n",
       "      <th id=\"T_adee9_level0_row11\" class=\"row_heading level0 row11\" >11</th>\n",
       "      <td id=\"T_adee9_row11_col0\" class=\"data row11 col0\" >Numeric imputation</td>\n",
       "      <td id=\"T_adee9_row11_col1\" class=\"data row11 col1\" >mean</td>\n",
       "    </tr>\n",
       "    <tr>\n",
       "      <th id=\"T_adee9_level0_row12\" class=\"row_heading level0 row12\" >12</th>\n",
       "      <td id=\"T_adee9_row12_col0\" class=\"data row12 col0\" >Categorical imputation</td>\n",
       "      <td id=\"T_adee9_row12_col1\" class=\"data row12 col1\" >mode</td>\n",
       "    </tr>\n",
       "    <tr>\n",
       "      <th id=\"T_adee9_level0_row13\" class=\"row_heading level0 row13\" >13</th>\n",
       "      <td id=\"T_adee9_row13_col0\" class=\"data row13 col0\" >Polynomial features</td>\n",
       "      <td id=\"T_adee9_row13_col1\" class=\"data row13 col1\" >True</td>\n",
       "    </tr>\n",
       "    <tr>\n",
       "      <th id=\"T_adee9_level0_row14\" class=\"row_heading level0 row14\" >14</th>\n",
       "      <td id=\"T_adee9_row14_col0\" class=\"data row14 col0\" >Polynomial degree</td>\n",
       "      <td id=\"T_adee9_row14_col1\" class=\"data row14 col1\" >2</td>\n",
       "    </tr>\n",
       "    <tr>\n",
       "      <th id=\"T_adee9_level0_row15\" class=\"row_heading level0 row15\" >15</th>\n",
       "      <td id=\"T_adee9_row15_col0\" class=\"data row15 col0\" >Fix imbalance</td>\n",
       "      <td id=\"T_adee9_row15_col1\" class=\"data row15 col1\" >True</td>\n",
       "    </tr>\n",
       "    <tr>\n",
       "      <th id=\"T_adee9_level0_row16\" class=\"row_heading level0 row16\" >16</th>\n",
       "      <td id=\"T_adee9_row16_col0\" class=\"data row16 col0\" >Fix imbalance method</td>\n",
       "      <td id=\"T_adee9_row16_col1\" class=\"data row16 col1\" >smote</td>\n",
       "    </tr>\n",
       "    <tr>\n",
       "      <th id=\"T_adee9_level0_row17\" class=\"row_heading level0 row17\" >17</th>\n",
       "      <td id=\"T_adee9_row17_col0\" class=\"data row17 col0\" >Normalize</td>\n",
       "      <td id=\"T_adee9_row17_col1\" class=\"data row17 col1\" >True</td>\n",
       "    </tr>\n",
       "    <tr>\n",
       "      <th id=\"T_adee9_level0_row18\" class=\"row_heading level0 row18\" >18</th>\n",
       "      <td id=\"T_adee9_row18_col0\" class=\"data row18 col0\" >Normalize method</td>\n",
       "      <td id=\"T_adee9_row18_col1\" class=\"data row18 col1\" >zscore</td>\n",
       "    </tr>\n",
       "    <tr>\n",
       "      <th id=\"T_adee9_level0_row19\" class=\"row_heading level0 row19\" >19</th>\n",
       "      <td id=\"T_adee9_row19_col0\" class=\"data row19 col0\" >Fold Generator</td>\n",
       "      <td id=\"T_adee9_row19_col1\" class=\"data row19 col1\" >StratifiedKFold</td>\n",
       "    </tr>\n",
       "    <tr>\n",
       "      <th id=\"T_adee9_level0_row20\" class=\"row_heading level0 row20\" >20</th>\n",
       "      <td id=\"T_adee9_row20_col0\" class=\"data row20 col0\" >Fold Number</td>\n",
       "      <td id=\"T_adee9_row20_col1\" class=\"data row20 col1\" >10</td>\n",
       "    </tr>\n",
       "    <tr>\n",
       "      <th id=\"T_adee9_level0_row21\" class=\"row_heading level0 row21\" >21</th>\n",
       "      <td id=\"T_adee9_row21_col0\" class=\"data row21 col0\" >CPU Jobs</td>\n",
       "      <td id=\"T_adee9_row21_col1\" class=\"data row21 col1\" >-1</td>\n",
       "    </tr>\n",
       "    <tr>\n",
       "      <th id=\"T_adee9_level0_row22\" class=\"row_heading level0 row22\" >22</th>\n",
       "      <td id=\"T_adee9_row22_col0\" class=\"data row22 col0\" >Use GPU</td>\n",
       "      <td id=\"T_adee9_row22_col1\" class=\"data row22 col1\" >False</td>\n",
       "    </tr>\n",
       "    <tr>\n",
       "      <th id=\"T_adee9_level0_row23\" class=\"row_heading level0 row23\" >23</th>\n",
       "      <td id=\"T_adee9_row23_col0\" class=\"data row23 col0\" >Log Experiment</td>\n",
       "      <td id=\"T_adee9_row23_col1\" class=\"data row23 col1\" >False</td>\n",
       "    </tr>\n",
       "    <tr>\n",
       "      <th id=\"T_adee9_level0_row24\" class=\"row_heading level0 row24\" >24</th>\n",
       "      <td id=\"T_adee9_row24_col0\" class=\"data row24 col0\" >Experiment Name</td>\n",
       "      <td id=\"T_adee9_row24_col1\" class=\"data row24 col1\" >clf-default-name</td>\n",
       "    </tr>\n",
       "    <tr>\n",
       "      <th id=\"T_adee9_level0_row25\" class=\"row_heading level0 row25\" >25</th>\n",
       "      <td id=\"T_adee9_row25_col0\" class=\"data row25 col0\" >USI</td>\n",
       "      <td id=\"T_adee9_row25_col1\" class=\"data row25 col1\" >30f8</td>\n",
       "    </tr>\n",
       "  </tbody>\n",
       "</table>\n"
      ],
      "text/plain": [
       "<pandas.io.formats.style.Styler at 0x7fa990174e50>"
      ]
     },
     "metadata": {},
     "output_type": "display_data"
    },
    {
     "name": "stdout",
     "output_type": "stream",
     "text": [
      "<pycaret.classification.oop.ClassificationExperiment object at 0x7fa94ff07c10>\n",
      "Index(['Length', 'Diameter', 'Height', 'Whole_weight', 'Shucked_weight',\n",
      "       'Viscera_weight', 'Shell_weight', 'Rings', 'Length^2',\n",
      "       'Length Diameter', 'Length Height', 'Length Whole_weight',\n",
      "       'Length Shucked_weight', 'Length Viscera_weight', 'Length Shell_weight',\n",
      "       'Length Rings', 'Diameter^2', 'Diameter Height',\n",
      "       'Diameter Whole_weight', 'Diameter Shucked_weight',\n",
      "       'Diameter Viscera_weight', 'Diameter Shell_weight', 'Diameter Rings',\n",
      "       'Height^2', 'Height Whole_weight', 'Height Shucked_weight',\n",
      "       'Height Viscera_weight', 'Height Shell_weight', 'Height Rings',\n",
      "       'Whole_weight^2', 'Whole_weight Shucked_weight',\n",
      "       'Whole_weight Viscera_weight', 'Whole_weight Shell_weight',\n",
      "       'Whole_weight Rings', 'Shucked_weight^2',\n",
      "       'Shucked_weight Viscera_weight', 'Shucked_weight Shell_weight',\n",
      "       'Shucked_weight Rings', 'Viscera_weight^2',\n",
      "       'Viscera_weight Shell_weight', 'Viscera_weight Rings', 'Shell_weight^2',\n",
      "       'Shell_weight Rings', 'Rings^2'],\n",
      "      dtype='object')\n",
      "                                     Name  \\\n",
      "ID                                          \n",
      "lr                    Logistic Regression   \n",
      "knn                K Neighbors Classifier   \n",
      "nb                            Naive Bayes   \n",
      "dt               Decision Tree Classifier   \n",
      "svm                   SVM - Linear Kernel   \n",
      "rbfsvm                SVM - Radial Kernel   \n",
      "gpc           Gaussian Process Classifier   \n",
      "mlp                        MLP Classifier   \n",
      "ridge                    Ridge Classifier   \n",
      "rf               Random Forest Classifier   \n",
      "qda       Quadratic Discriminant Analysis   \n",
      "ada                  Ada Boost Classifier   \n",
      "gbc          Gradient Boosting Classifier   \n",
      "lda          Linear Discriminant Analysis   \n",
      "et                 Extra Trees Classifier   \n",
      "xgboost         Extreme Gradient Boosting   \n",
      "lightgbm  Light Gradient Boosting Machine   \n",
      "catboost              CatBoost Classifier   \n",
      "dummy                    Dummy Classifier   \n",
      "\n",
      "                                                  Reference  Turbo  \n",
      "ID                                                                  \n",
      "lr        sklearn.linear_model._logistic.LogisticRegression   True  \n",
      "knn       sklearn.neighbors._classification.KNeighborsCl...   True  \n",
      "nb                           sklearn.naive_bayes.GaussianNB   True  \n",
      "dt             sklearn.tree._classes.DecisionTreeClassifier   True  \n",
      "svm       sklearn.linear_model._stochastic_gradient.SGDC...   True  \n",
      "rbfsvm                             sklearn.svm._classes.SVC  False  \n",
      "gpc       sklearn.gaussian_process._gpc.GaussianProcessC...  False  \n",
      "mlp       sklearn.neural_network._multilayer_perceptron....  False  \n",
      "ridge           sklearn.linear_model._ridge.RidgeClassifier   True  \n",
      "rf          sklearn.ensemble._forest.RandomForestClassifier   True  \n",
      "qda       sklearn.discriminant_analysis.QuadraticDiscrim...   True  \n",
      "ada       sklearn.ensemble._weight_boosting.AdaBoostClas...   True  \n",
      "gbc         sklearn.ensemble._gb.GradientBoostingClassifier   True  \n",
      "lda       sklearn.discriminant_analysis.LinearDiscrimina...   True  \n",
      "et            sklearn.ensemble._forest.ExtraTreesClassifier   True  \n",
      "xgboost                       xgboost.sklearn.XGBClassifier   True  \n",
      "lightgbm                    lightgbm.sklearn.LGBMClassifier   True  \n",
      "catboost                   catboost.core.CatBoostClassifier   True  \n",
      "dummy                         sklearn.dummy.DummyClassifier   True  \n"
     ]
    }
   ],
   "source": [
    "    \n",
    "    #3.1 Machine learning ============================================================\n",
    "    #3.2 Splitting 60/20/20\n",
    "    if split =='60_20_20':\n",
    "        train_val_data, test_data = train_test_split(df, test_size=0.2, random_state=rand_seed) #split 80/20\n",
    "        val_split = 0.75 #split 80 to 60/20\n",
    "    if split =='80_10_10':\n",
    "        train_val_data, test_data = train_test_split(df, test_size=0.1, random_state=rand_seed) #split 90/10\n",
    "        val_split = 0.8888 #split 80 to 60/20\n",
    "    print(train_val_data.shape, test_data.shape)  \n",
    "\n",
    "    #3.3 Setup Models\n",
    "    clf1 = setup(data=train_val_data,\n",
    "                target=ground_truth,\n",
    "                session_id=rand_seed,\n",
    "                train_size=val_split,  \n",
    "                 \n",
    "                #Preprocessing\n",
    "                preprocess=True,  \n",
    "                normalize=True, \n",
    "                normalize_method='zscore', # ['zscore','minmax','maxabs', 'robust']\n",
    "                fix_imbalance= True,\n",
    "                fix_imbalance_method= 'smote',\n",
    "                 \n",
    "                #Feature Engineering\n",
    "                polynomial_features= True,\n",
    "                polynomial_degree =2,\n",
    "\n",
    "                #feature_selection=True,\n",
    "                #bin_numeric_features=['Rings'],\n",
    "                #remove_outliers =True,\n",
    "                #group_features = {'weights_group': ['Whole_weight', 'Shucked_weight', 'Viscera_weight', 'Shell_weight']},\n",
    "                 \n",
    "                #Others \n",
    "                fold = 10,\n",
    "                use_gpu =False,\n",
    "                )\n",
    "    print(clf1)\n",
    "    transformed_dataset = get_config('X_train_transformed')\n",
    "    feature_names = transformed_dataset.columns\n",
    "    print(feature_names)\n",
    "\n",
    "    all_models = models()\n",
    "    print(all_models)"
   ]
  },
  {
   "cell_type": "code",
   "execution_count": 4,
   "id": "63f0dd2d",
   "metadata": {},
   "outputs": [
    {
     "data": {
      "text/html": [],
      "text/plain": [
       "<IPython.core.display.HTML object>"
      ]
     },
     "metadata": {},
     "output_type": "display_data"
    },
    {
     "data": {
      "text/html": [
       "<style type=\"text/css\">\n",
       "#T_c8bc5 th {\n",
       "  text-align: left;\n",
       "}\n",
       "#T_c8bc5_row0_col0, #T_c8bc5_row0_col1, #T_c8bc5_row0_col3, #T_c8bc5_row0_col4, #T_c8bc5_row0_col5, #T_c8bc5_row0_col6, #T_c8bc5_row0_col7, #T_c8bc5_row1_col0, #T_c8bc5_row1_col1, #T_c8bc5_row1_col2, #T_c8bc5_row1_col3, #T_c8bc5_row1_col4, #T_c8bc5_row1_col5, #T_c8bc5_row1_col6, #T_c8bc5_row1_col7, #T_c8bc5_row2_col0, #T_c8bc5_row2_col2, #T_c8bc5_row3_col0, #T_c8bc5_row3_col1, #T_c8bc5_row3_col2, #T_c8bc5_row3_col3, #T_c8bc5_row3_col4, #T_c8bc5_row3_col5, #T_c8bc5_row3_col6, #T_c8bc5_row3_col7, #T_c8bc5_row4_col0, #T_c8bc5_row4_col1, #T_c8bc5_row4_col2, #T_c8bc5_row4_col3, #T_c8bc5_row4_col4, #T_c8bc5_row4_col5, #T_c8bc5_row4_col6, #T_c8bc5_row4_col7, #T_c8bc5_row5_col0, #T_c8bc5_row5_col1, #T_c8bc5_row5_col2, #T_c8bc5_row5_col3, #T_c8bc5_row5_col4, #T_c8bc5_row5_col5, #T_c8bc5_row5_col6, #T_c8bc5_row5_col7, #T_c8bc5_row6_col0, #T_c8bc5_row6_col1, #T_c8bc5_row6_col2, #T_c8bc5_row6_col3, #T_c8bc5_row6_col4, #T_c8bc5_row6_col5, #T_c8bc5_row6_col6, #T_c8bc5_row6_col7, #T_c8bc5_row7_col0, #T_c8bc5_row7_col1, #T_c8bc5_row7_col2, #T_c8bc5_row7_col3, #T_c8bc5_row7_col4, #T_c8bc5_row7_col5, #T_c8bc5_row7_col6, #T_c8bc5_row7_col7, #T_c8bc5_row8_col0, #T_c8bc5_row8_col1, #T_c8bc5_row8_col2, #T_c8bc5_row8_col3, #T_c8bc5_row8_col4, #T_c8bc5_row8_col5, #T_c8bc5_row8_col6, #T_c8bc5_row8_col7, #T_c8bc5_row9_col0, #T_c8bc5_row9_col1, #T_c8bc5_row9_col2, #T_c8bc5_row9_col3, #T_c8bc5_row9_col4, #T_c8bc5_row9_col5, #T_c8bc5_row9_col6, #T_c8bc5_row9_col7, #T_c8bc5_row10_col0, #T_c8bc5_row10_col1, #T_c8bc5_row10_col2, #T_c8bc5_row10_col3, #T_c8bc5_row10_col4, #T_c8bc5_row10_col5, #T_c8bc5_row10_col6, #T_c8bc5_row10_col7, #T_c8bc5_row11_col0, #T_c8bc5_row11_col1, #T_c8bc5_row11_col2, #T_c8bc5_row11_col3, #T_c8bc5_row11_col4, #T_c8bc5_row11_col5, #T_c8bc5_row11_col6, #T_c8bc5_row11_col7, #T_c8bc5_row12_col0, #T_c8bc5_row12_col1, #T_c8bc5_row12_col2, #T_c8bc5_row12_col3, #T_c8bc5_row12_col4, #T_c8bc5_row12_col5, #T_c8bc5_row12_col6, #T_c8bc5_row12_col7, #T_c8bc5_row13_col0, #T_c8bc5_row13_col1, #T_c8bc5_row13_col2, #T_c8bc5_row13_col3, #T_c8bc5_row13_col4, #T_c8bc5_row13_col5, #T_c8bc5_row13_col6, #T_c8bc5_row13_col7, #T_c8bc5_row14_col0, #T_c8bc5_row14_col1, #T_c8bc5_row14_col2, #T_c8bc5_row14_col3, #T_c8bc5_row14_col4, #T_c8bc5_row14_col5, #T_c8bc5_row14_col6, #T_c8bc5_row14_col7, #T_c8bc5_row15_col0, #T_c8bc5_row15_col1, #T_c8bc5_row15_col2, #T_c8bc5_row15_col3, #T_c8bc5_row15_col4, #T_c8bc5_row15_col5, #T_c8bc5_row15_col6, #T_c8bc5_row15_col7 {\n",
       "  text-align: left;\n",
       "}\n",
       "#T_c8bc5_row0_col2, #T_c8bc5_row2_col1, #T_c8bc5_row2_col3, #T_c8bc5_row2_col4, #T_c8bc5_row2_col5, #T_c8bc5_row2_col6, #T_c8bc5_row2_col7 {\n",
       "  text-align: left;\n",
       "  background-color: yellow;\n",
       "}\n",
       "#T_c8bc5_row0_col8, #T_c8bc5_row1_col8, #T_c8bc5_row2_col8, #T_c8bc5_row3_col8, #T_c8bc5_row4_col8, #T_c8bc5_row5_col8, #T_c8bc5_row6_col8, #T_c8bc5_row7_col8, #T_c8bc5_row8_col8, #T_c8bc5_row10_col8, #T_c8bc5_row11_col8, #T_c8bc5_row12_col8, #T_c8bc5_row13_col8, #T_c8bc5_row14_col8, #T_c8bc5_row15_col8 {\n",
       "  text-align: left;\n",
       "  background-color: lightgrey;\n",
       "}\n",
       "#T_c8bc5_row9_col8 {\n",
       "  text-align: left;\n",
       "  background-color: yellow;\n",
       "  background-color: lightgrey;\n",
       "}\n",
       "</style>\n",
       "<table id=\"T_c8bc5\">\n",
       "  <thead>\n",
       "    <tr>\n",
       "      <th class=\"blank level0\" >&nbsp;</th>\n",
       "      <th id=\"T_c8bc5_level0_col0\" class=\"col_heading level0 col0\" >Model</th>\n",
       "      <th id=\"T_c8bc5_level0_col1\" class=\"col_heading level0 col1\" >Accuracy</th>\n",
       "      <th id=\"T_c8bc5_level0_col2\" class=\"col_heading level0 col2\" >AUC</th>\n",
       "      <th id=\"T_c8bc5_level0_col3\" class=\"col_heading level0 col3\" >Recall</th>\n",
       "      <th id=\"T_c8bc5_level0_col4\" class=\"col_heading level0 col4\" >Prec.</th>\n",
       "      <th id=\"T_c8bc5_level0_col5\" class=\"col_heading level0 col5\" >F1</th>\n",
       "      <th id=\"T_c8bc5_level0_col6\" class=\"col_heading level0 col6\" >Kappa</th>\n",
       "      <th id=\"T_c8bc5_level0_col7\" class=\"col_heading level0 col7\" >MCC</th>\n",
       "      <th id=\"T_c8bc5_level0_col8\" class=\"col_heading level0 col8\" >TT (Sec)</th>\n",
       "    </tr>\n",
       "  </thead>\n",
       "  <tbody>\n",
       "    <tr>\n",
       "      <th id=\"T_c8bc5_level0_row0\" class=\"row_heading level0 row0\" >lr</th>\n",
       "      <td id=\"T_c8bc5_row0_col0\" class=\"data row0 col0\" >Logistic Regression</td>\n",
       "      <td id=\"T_c8bc5_row0_col1\" class=\"data row0 col1\" >0.5449</td>\n",
       "      <td id=\"T_c8bc5_row0_col2\" class=\"data row0 col2\" >0.7634</td>\n",
       "      <td id=\"T_c8bc5_row0_col3\" class=\"data row0 col3\" >0.5449</td>\n",
       "      <td id=\"T_c8bc5_row0_col4\" class=\"data row0 col4\" >0.5351</td>\n",
       "      <td id=\"T_c8bc5_row0_col5\" class=\"data row0 col5\" >0.5288</td>\n",
       "      <td id=\"T_c8bc5_row0_col6\" class=\"data row0 col6\" >0.3224</td>\n",
       "      <td id=\"T_c8bc5_row0_col7\" class=\"data row0 col7\" >0.3293</td>\n",
       "      <td id=\"T_c8bc5_row0_col8\" class=\"data row0 col8\" >0.2010</td>\n",
       "    </tr>\n",
       "    <tr>\n",
       "      <th id=\"T_c8bc5_level0_row1\" class=\"row_heading level0 row1\" >lda</th>\n",
       "      <td id=\"T_c8bc5_row1_col0\" class=\"data row1 col0\" >Linear Discriminant Analysis</td>\n",
       "      <td id=\"T_c8bc5_row1_col1\" class=\"data row1 col1\" >0.5505</td>\n",
       "      <td id=\"T_c8bc5_row1_col2\" class=\"data row1 col2\" >0.7573</td>\n",
       "      <td id=\"T_c8bc5_row1_col3\" class=\"data row1 col3\" >0.5505</td>\n",
       "      <td id=\"T_c8bc5_row1_col4\" class=\"data row1 col4\" >0.5423</td>\n",
       "      <td id=\"T_c8bc5_row1_col5\" class=\"data row1 col5\" >0.5440</td>\n",
       "      <td id=\"T_c8bc5_row1_col6\" class=\"data row1 col6\" >0.3263</td>\n",
       "      <td id=\"T_c8bc5_row1_col7\" class=\"data row1 col7\" >0.3278</td>\n",
       "      <td id=\"T_c8bc5_row1_col8\" class=\"data row1 col8\" >0.0160</td>\n",
       "    </tr>\n",
       "    <tr>\n",
       "      <th id=\"T_c8bc5_level0_row2\" class=\"row_heading level0 row2\" >catboost</th>\n",
       "      <td id=\"T_c8bc5_row2_col0\" class=\"data row2 col0\" >CatBoost Classifier</td>\n",
       "      <td id=\"T_c8bc5_row2_col1\" class=\"data row2 col1\" >0.5585</td>\n",
       "      <td id=\"T_c8bc5_row2_col2\" class=\"data row2 col2\" >0.7519</td>\n",
       "      <td id=\"T_c8bc5_row2_col3\" class=\"data row2 col3\" >0.5585</td>\n",
       "      <td id=\"T_c8bc5_row2_col4\" class=\"data row2 col4\" >0.5550</td>\n",
       "      <td id=\"T_c8bc5_row2_col5\" class=\"data row2 col5\" >0.5549</td>\n",
       "      <td id=\"T_c8bc5_row2_col6\" class=\"data row2 col6\" >0.3377</td>\n",
       "      <td id=\"T_c8bc5_row2_col7\" class=\"data row2 col7\" >0.3389</td>\n",
       "      <td id=\"T_c8bc5_row2_col8\" class=\"data row2 col8\" >10.0880</td>\n",
       "    </tr>\n",
       "    <tr>\n",
       "      <th id=\"T_c8bc5_level0_row3\" class=\"row_heading level0 row3\" >rf</th>\n",
       "      <td id=\"T_c8bc5_row3_col0\" class=\"data row3 col0\" >Random Forest Classifier</td>\n",
       "      <td id=\"T_c8bc5_row3_col1\" class=\"data row3 col1\" >0.5477</td>\n",
       "      <td id=\"T_c8bc5_row3_col2\" class=\"data row3 col2\" >0.7495</td>\n",
       "      <td id=\"T_c8bc5_row3_col3\" class=\"data row3 col3\" >0.5477</td>\n",
       "      <td id=\"T_c8bc5_row3_col4\" class=\"data row3 col4\" >0.5450</td>\n",
       "      <td id=\"T_c8bc5_row3_col5\" class=\"data row3 col5\" >0.5448</td>\n",
       "      <td id=\"T_c8bc5_row3_col6\" class=\"data row3 col6\" >0.3214</td>\n",
       "      <td id=\"T_c8bc5_row3_col7\" class=\"data row3 col7\" >0.3224</td>\n",
       "      <td id=\"T_c8bc5_row3_col8\" class=\"data row3 col8\" >0.1040</td>\n",
       "    </tr>\n",
       "    <tr>\n",
       "      <th id=\"T_c8bc5_level0_row4\" class=\"row_heading level0 row4\" >gbc</th>\n",
       "      <td id=\"T_c8bc5_row4_col0\" class=\"data row4 col0\" >Gradient Boosting Classifier</td>\n",
       "      <td id=\"T_c8bc5_row4_col1\" class=\"data row4 col1\" >0.5453</td>\n",
       "      <td id=\"T_c8bc5_row4_col2\" class=\"data row4 col2\" >0.7475</td>\n",
       "      <td id=\"T_c8bc5_row4_col3\" class=\"data row4 col3\" >0.5453</td>\n",
       "      <td id=\"T_c8bc5_row4_col4\" class=\"data row4 col4\" >0.5377</td>\n",
       "      <td id=\"T_c8bc5_row4_col5\" class=\"data row4 col5\" >0.5383</td>\n",
       "      <td id=\"T_c8bc5_row4_col6\" class=\"data row4 col6\" >0.3194</td>\n",
       "      <td id=\"T_c8bc5_row4_col7\" class=\"data row4 col7\" >0.3213</td>\n",
       "      <td id=\"T_c8bc5_row4_col8\" class=\"data row4 col8\" >0.7280</td>\n",
       "    </tr>\n",
       "    <tr>\n",
       "      <th id=\"T_c8bc5_level0_row5\" class=\"row_heading level0 row5\" >et</th>\n",
       "      <td id=\"T_c8bc5_row5_col0\" class=\"data row5 col0\" >Extra Trees Classifier</td>\n",
       "      <td id=\"T_c8bc5_row5_col1\" class=\"data row5 col1\" >0.5529</td>\n",
       "      <td id=\"T_c8bc5_row5_col2\" class=\"data row5 col2\" >0.7455</td>\n",
       "      <td id=\"T_c8bc5_row5_col3\" class=\"data row5 col3\" >0.5529</td>\n",
       "      <td id=\"T_c8bc5_row5_col4\" class=\"data row5 col4\" >0.5503</td>\n",
       "      <td id=\"T_c8bc5_row5_col5\" class=\"data row5 col5\" >0.5503</td>\n",
       "      <td id=\"T_c8bc5_row5_col6\" class=\"data row5 col6\" >0.3286</td>\n",
       "      <td id=\"T_c8bc5_row5_col7\" class=\"data row5 col7\" >0.3294</td>\n",
       "      <td id=\"T_c8bc5_row5_col8\" class=\"data row5 col8\" >0.0540</td>\n",
       "    </tr>\n",
       "    <tr>\n",
       "      <th id=\"T_c8bc5_level0_row6\" class=\"row_heading level0 row6\" >lightgbm</th>\n",
       "      <td id=\"T_c8bc5_row6_col0\" class=\"data row6 col0\" >Light Gradient Boosting Machine</td>\n",
       "      <td id=\"T_c8bc5_row6_col1\" class=\"data row6 col1\" >0.5377</td>\n",
       "      <td id=\"T_c8bc5_row6_col2\" class=\"data row6 col2\" >0.7375</td>\n",
       "      <td id=\"T_c8bc5_row6_col3\" class=\"data row6 col3\" >0.5377</td>\n",
       "      <td id=\"T_c8bc5_row6_col4\" class=\"data row6 col4\" >0.5344</td>\n",
       "      <td id=\"T_c8bc5_row6_col5\" class=\"data row6 col5\" >0.5346</td>\n",
       "      <td id=\"T_c8bc5_row6_col6\" class=\"data row6 col6\" >0.3060</td>\n",
       "      <td id=\"T_c8bc5_row6_col7\" class=\"data row6 col7\" >0.3069</td>\n",
       "      <td id=\"T_c8bc5_row6_col8\" class=\"data row6 col8\" >1.7170</td>\n",
       "    </tr>\n",
       "    <tr>\n",
       "      <th id=\"T_c8bc5_level0_row7\" class=\"row_heading level0 row7\" >qda</th>\n",
       "      <td id=\"T_c8bc5_row7_col0\" class=\"data row7 col0\" >Quadratic Discriminant Analysis</td>\n",
       "      <td id=\"T_c8bc5_row7_col1\" class=\"data row7 col1\" >0.5138</td>\n",
       "      <td id=\"T_c8bc5_row7_col2\" class=\"data row7 col2\" >0.7374</td>\n",
       "      <td id=\"T_c8bc5_row7_col3\" class=\"data row7 col3\" >0.5138</td>\n",
       "      <td id=\"T_c8bc5_row7_col4\" class=\"data row7 col4\" >0.4965</td>\n",
       "      <td id=\"T_c8bc5_row7_col5\" class=\"data row7 col5\" >0.4723</td>\n",
       "      <td id=\"T_c8bc5_row7_col6\" class=\"data row7 col6\" >0.2673</td>\n",
       "      <td id=\"T_c8bc5_row7_col7\" class=\"data row7 col7\" >0.2843</td>\n",
       "      <td id=\"T_c8bc5_row7_col8\" class=\"data row7 col8\" >0.0120</td>\n",
       "    </tr>\n",
       "    <tr>\n",
       "      <th id=\"T_c8bc5_level0_row8\" class=\"row_heading level0 row8\" >xgboost</th>\n",
       "      <td id=\"T_c8bc5_row8_col0\" class=\"data row8 col0\" >Extreme Gradient Boosting</td>\n",
       "      <td id=\"T_c8bc5_row8_col1\" class=\"data row8 col1\" >0.5377</td>\n",
       "      <td id=\"T_c8bc5_row8_col2\" class=\"data row8 col2\" >0.7341</td>\n",
       "      <td id=\"T_c8bc5_row8_col3\" class=\"data row8 col3\" >0.5377</td>\n",
       "      <td id=\"T_c8bc5_row8_col4\" class=\"data row8 col4\" >0.5352</td>\n",
       "      <td id=\"T_c8bc5_row8_col5\" class=\"data row8 col5\" >0.5350</td>\n",
       "      <td id=\"T_c8bc5_row8_col6\" class=\"data row8 col6\" >0.3063</td>\n",
       "      <td id=\"T_c8bc5_row8_col7\" class=\"data row8 col7\" >0.3071</td>\n",
       "      <td id=\"T_c8bc5_row8_col8\" class=\"data row8 col8\" >0.2200</td>\n",
       "    </tr>\n",
       "    <tr>\n",
       "      <th id=\"T_c8bc5_level0_row9\" class=\"row_heading level0 row9\" >nb</th>\n",
       "      <td id=\"T_c8bc5_row9_col0\" class=\"data row9 col0\" >Naive Bayes</td>\n",
       "      <td id=\"T_c8bc5_row9_col1\" class=\"data row9 col1\" >0.5154</td>\n",
       "      <td id=\"T_c8bc5_row9_col2\" class=\"data row9 col2\" >0.7301</td>\n",
       "      <td id=\"T_c8bc5_row9_col3\" class=\"data row9 col3\" >0.5154</td>\n",
       "      <td id=\"T_c8bc5_row9_col4\" class=\"data row9 col4\" >0.4989</td>\n",
       "      <td id=\"T_c8bc5_row9_col5\" class=\"data row9 col5\" >0.4644</td>\n",
       "      <td id=\"T_c8bc5_row9_col6\" class=\"data row9 col6\" >0.2841</td>\n",
       "      <td id=\"T_c8bc5_row9_col7\" class=\"data row9 col7\" >0.3068</td>\n",
       "      <td id=\"T_c8bc5_row9_col8\" class=\"data row9 col8\" >0.0100</td>\n",
       "    </tr>\n",
       "    <tr>\n",
       "      <th id=\"T_c8bc5_level0_row10\" class=\"row_heading level0 row10\" >ada</th>\n",
       "      <td id=\"T_c8bc5_row10_col0\" class=\"data row10 col0\" >Ada Boost Classifier</td>\n",
       "      <td id=\"T_c8bc5_row10_col1\" class=\"data row10 col1\" >0.5257</td>\n",
       "      <td id=\"T_c8bc5_row10_col2\" class=\"data row10 col2\" >0.7276</td>\n",
       "      <td id=\"T_c8bc5_row10_col3\" class=\"data row10 col3\" >0.5257</td>\n",
       "      <td id=\"T_c8bc5_row10_col4\" class=\"data row10 col4\" >0.5160</td>\n",
       "      <td id=\"T_c8bc5_row10_col5\" class=\"data row10 col5\" >0.5127</td>\n",
       "      <td id=\"T_c8bc5_row10_col6\" class=\"data row10 col6\" >0.2923</td>\n",
       "      <td id=\"T_c8bc5_row10_col7\" class=\"data row10 col7\" >0.2970</td>\n",
       "      <td id=\"T_c8bc5_row10_col8\" class=\"data row10 col8\" >0.0630</td>\n",
       "    </tr>\n",
       "    <tr>\n",
       "      <th id=\"T_c8bc5_level0_row11\" class=\"row_heading level0 row11\" >knn</th>\n",
       "      <td id=\"T_c8bc5_row11_col0\" class=\"data row11 col0\" >K Neighbors Classifier</td>\n",
       "      <td id=\"T_c8bc5_row11_col1\" class=\"data row11 col1\" >0.5405</td>\n",
       "      <td id=\"T_c8bc5_row11_col2\" class=\"data row11 col2\" >0.7152</td>\n",
       "      <td id=\"T_c8bc5_row11_col3\" class=\"data row11 col3\" >0.5405</td>\n",
       "      <td id=\"T_c8bc5_row11_col4\" class=\"data row11 col4\" >0.5422</td>\n",
       "      <td id=\"T_c8bc5_row11_col5\" class=\"data row11 col5\" >0.5337</td>\n",
       "      <td id=\"T_c8bc5_row11_col6\" class=\"data row11 col6\" >0.3147</td>\n",
       "      <td id=\"T_c8bc5_row11_col7\" class=\"data row11 col7\" >0.3198</td>\n",
       "      <td id=\"T_c8bc5_row11_col8\" class=\"data row11 col8\" >0.0970</td>\n",
       "    </tr>\n",
       "    <tr>\n",
       "      <th id=\"T_c8bc5_level0_row12\" class=\"row_heading level0 row12\" >dt</th>\n",
       "      <td id=\"T_c8bc5_row12_col0\" class=\"data row12 col0\" >Decision Tree Classifier</td>\n",
       "      <td id=\"T_c8bc5_row12_col1\" class=\"data row12 col1\" >0.4918</td>\n",
       "      <td id=\"T_c8bc5_row12_col2\" class=\"data row12 col2\" >0.6171</td>\n",
       "      <td id=\"T_c8bc5_row12_col3\" class=\"data row12 col3\" >0.4918</td>\n",
       "      <td id=\"T_c8bc5_row12_col4\" class=\"data row12 col4\" >0.4936</td>\n",
       "      <td id=\"T_c8bc5_row12_col5\" class=\"data row12 col5\" >0.4915</td>\n",
       "      <td id=\"T_c8bc5_row12_col6\" class=\"data row12 col6\" >0.2367</td>\n",
       "      <td id=\"T_c8bc5_row12_col7\" class=\"data row12 col7\" >0.2373</td>\n",
       "      <td id=\"T_c8bc5_row12_col8\" class=\"data row12 col8\" >0.0190</td>\n",
       "    </tr>\n",
       "    <tr>\n",
       "      <th id=\"T_c8bc5_level0_row13\" class=\"row_heading level0 row13\" >dummy</th>\n",
       "      <td id=\"T_c8bc5_row13_col0\" class=\"data row13 col0\" >Dummy Classifier</td>\n",
       "      <td id=\"T_c8bc5_row13_col1\" class=\"data row13 col1\" >0.3114</td>\n",
       "      <td id=\"T_c8bc5_row13_col2\" class=\"data row13 col2\" >0.5000</td>\n",
       "      <td id=\"T_c8bc5_row13_col3\" class=\"data row13 col3\" >0.3114</td>\n",
       "      <td id=\"T_c8bc5_row13_col4\" class=\"data row13 col4\" >0.0970</td>\n",
       "      <td id=\"T_c8bc5_row13_col5\" class=\"data row13 col5\" >0.1479</td>\n",
       "      <td id=\"T_c8bc5_row13_col6\" class=\"data row13 col6\" >0.0000</td>\n",
       "      <td id=\"T_c8bc5_row13_col7\" class=\"data row13 col7\" >0.0000</td>\n",
       "      <td id=\"T_c8bc5_row13_col8\" class=\"data row13 col8\" >0.0480</td>\n",
       "    </tr>\n",
       "    <tr>\n",
       "      <th id=\"T_c8bc5_level0_row14\" class=\"row_heading level0 row14\" >svm</th>\n",
       "      <td id=\"T_c8bc5_row14_col0\" class=\"data row14 col0\" >SVM - Linear Kernel</td>\n",
       "      <td id=\"T_c8bc5_row14_col1\" class=\"data row14 col1\" >0.5369</td>\n",
       "      <td id=\"T_c8bc5_row14_col2\" class=\"data row14 col2\" >0.0000</td>\n",
       "      <td id=\"T_c8bc5_row14_col3\" class=\"data row14 col3\" >0.5369</td>\n",
       "      <td id=\"T_c8bc5_row14_col4\" class=\"data row14 col4\" >0.5222</td>\n",
       "      <td id=\"T_c8bc5_row14_col5\" class=\"data row14 col5\" >0.5089</td>\n",
       "      <td id=\"T_c8bc5_row14_col6\" class=\"data row14 col6\" >0.3087</td>\n",
       "      <td id=\"T_c8bc5_row14_col7\" class=\"data row14 col7\" >0.3205</td>\n",
       "      <td id=\"T_c8bc5_row14_col8\" class=\"data row14 col8\" >0.0180</td>\n",
       "    </tr>\n",
       "    <tr>\n",
       "      <th id=\"T_c8bc5_level0_row15\" class=\"row_heading level0 row15\" >ridge</th>\n",
       "      <td id=\"T_c8bc5_row15_col0\" class=\"data row15 col0\" >Ridge Classifier</td>\n",
       "      <td id=\"T_c8bc5_row15_col1\" class=\"data row15 col1\" >0.5429</td>\n",
       "      <td id=\"T_c8bc5_row15_col2\" class=\"data row15 col2\" >0.0000</td>\n",
       "      <td id=\"T_c8bc5_row15_col3\" class=\"data row15 col3\" >0.5429</td>\n",
       "      <td id=\"T_c8bc5_row15_col4\" class=\"data row15 col4\" >0.5308</td>\n",
       "      <td id=\"T_c8bc5_row15_col5\" class=\"data row15 col5\" >0.5218</td>\n",
       "      <td id=\"T_c8bc5_row15_col6\" class=\"data row15 col6\" >0.3198</td>\n",
       "      <td id=\"T_c8bc5_row15_col7\" class=\"data row15 col7\" >0.3287</td>\n",
       "      <td id=\"T_c8bc5_row15_col8\" class=\"data row15 col8\" >0.0110</td>\n",
       "    </tr>\n",
       "  </tbody>\n",
       "</table>\n"
      ],
      "text/plain": [
       "<pandas.io.formats.style.Styler at 0x7fa9d845dfd0>"
      ]
     },
     "metadata": {},
     "output_type": "display_data"
    },
    {
     "data": {
      "text/html": [],
      "text/plain": [
       "<IPython.core.display.HTML object>"
      ]
     },
     "metadata": {},
     "output_type": "display_data"
    },
    {
     "name": "stdout",
     "output_type": "stream",
     "text": [
      "[LogisticRegression(C=1.0, class_weight=None, dual=False, fit_intercept=True,\n",
      "                   intercept_scaling=1, l1_ratio=None, max_iter=1000,\n",
      "                   multi_class='auto', n_jobs=None, penalty='l2',\n",
      "                   random_state=29, solver='lbfgs', tol=0.0001, verbose=0,\n",
      "                   warm_start=False), LinearDiscriminantAnalysis(covariance_estimator=None, n_components=None,\n",
      "                           priors=None, shrinkage=None, solver='svd',\n",
      "                           store_covariance=False, tol=0.0001), <catboost.core.CatBoostClassifier object at 0x7fa9db7258b0>]\n"
     ]
    },
    {
     "data": {
      "text/html": [],
      "text/plain": [
       "<IPython.core.display.HTML object>"
      ]
     },
     "metadata": {},
     "output_type": "display_data"
    },
    {
     "data": {
      "text/html": [
       "<style type=\"text/css\">\n",
       "#T_777e1_row10_col0, #T_777e1_row10_col1, #T_777e1_row10_col2, #T_777e1_row10_col3, #T_777e1_row10_col4, #T_777e1_row10_col5, #T_777e1_row10_col6 {\n",
       "  background: yellow;\n",
       "}\n",
       "</style>\n",
       "<table id=\"T_777e1\">\n",
       "  <thead>\n",
       "    <tr>\n",
       "      <th class=\"blank level0\" >&nbsp;</th>\n",
       "      <th id=\"T_777e1_level0_col0\" class=\"col_heading level0 col0\" >Accuracy</th>\n",
       "      <th id=\"T_777e1_level0_col1\" class=\"col_heading level0 col1\" >AUC</th>\n",
       "      <th id=\"T_777e1_level0_col2\" class=\"col_heading level0 col2\" >Recall</th>\n",
       "      <th id=\"T_777e1_level0_col3\" class=\"col_heading level0 col3\" >Prec.</th>\n",
       "      <th id=\"T_777e1_level0_col4\" class=\"col_heading level0 col4\" >F1</th>\n",
       "      <th id=\"T_777e1_level0_col5\" class=\"col_heading level0 col5\" >Kappa</th>\n",
       "      <th id=\"T_777e1_level0_col6\" class=\"col_heading level0 col6\" >MCC</th>\n",
       "    </tr>\n",
       "    <tr>\n",
       "      <th class=\"index_name level0\" >Fold</th>\n",
       "      <th class=\"blank col0\" >&nbsp;</th>\n",
       "      <th class=\"blank col1\" >&nbsp;</th>\n",
       "      <th class=\"blank col2\" >&nbsp;</th>\n",
       "      <th class=\"blank col3\" >&nbsp;</th>\n",
       "      <th class=\"blank col4\" >&nbsp;</th>\n",
       "      <th class=\"blank col5\" >&nbsp;</th>\n",
       "      <th class=\"blank col6\" >&nbsp;</th>\n",
       "    </tr>\n",
       "  </thead>\n",
       "  <tbody>\n",
       "    <tr>\n",
       "      <th id=\"T_777e1_level0_row0\" class=\"row_heading level0 row0\" >0</th>\n",
       "      <td id=\"T_777e1_row0_col0\" class=\"data row0 col0\" >0.5538</td>\n",
       "      <td id=\"T_777e1_row0_col1\" class=\"data row0 col1\" >0.7463</td>\n",
       "      <td id=\"T_777e1_row0_col2\" class=\"data row0 col2\" >0.5538</td>\n",
       "      <td id=\"T_777e1_row0_col3\" class=\"data row0 col3\" >0.5437</td>\n",
       "      <td id=\"T_777e1_row0_col4\" class=\"data row0 col4\" >0.5404</td>\n",
       "      <td id=\"T_777e1_row0_col5\" class=\"data row0 col5\" >0.3349</td>\n",
       "      <td id=\"T_777e1_row0_col6\" class=\"data row0 col6\" >0.3401</td>\n",
       "    </tr>\n",
       "    <tr>\n",
       "      <th id=\"T_777e1_level0_row1\" class=\"row_heading level0 row1\" >1</th>\n",
       "      <td id=\"T_777e1_row1_col0\" class=\"data row1 col0\" >0.5857</td>\n",
       "      <td id=\"T_777e1_row1_col1\" class=\"data row1 col1\" >0.7808</td>\n",
       "      <td id=\"T_777e1_row1_col2\" class=\"data row1 col2\" >0.5857</td>\n",
       "      <td id=\"T_777e1_row1_col3\" class=\"data row1 col3\" >0.5683</td>\n",
       "      <td id=\"T_777e1_row1_col4\" class=\"data row1 col4\" >0.5717</td>\n",
       "      <td id=\"T_777e1_row1_col5\" class=\"data row1 col5\" >0.3802</td>\n",
       "      <td id=\"T_777e1_row1_col6\" class=\"data row1 col6\" >0.3836</td>\n",
       "    </tr>\n",
       "    <tr>\n",
       "      <th id=\"T_777e1_level0_row2\" class=\"row_heading level0 row2\" >2</th>\n",
       "      <td id=\"T_777e1_row2_col0\" class=\"data row2 col0\" >0.5498</td>\n",
       "      <td id=\"T_777e1_row2_col1\" class=\"data row2 col1\" >0.7570</td>\n",
       "      <td id=\"T_777e1_row2_col2\" class=\"data row2 col2\" >0.5498</td>\n",
       "      <td id=\"T_777e1_row2_col3\" class=\"data row2 col3\" >0.5429</td>\n",
       "      <td id=\"T_777e1_row2_col4\" class=\"data row2 col4\" >0.5430</td>\n",
       "      <td id=\"T_777e1_row2_col5\" class=\"data row2 col5\" >0.3268</td>\n",
       "      <td id=\"T_777e1_row2_col6\" class=\"data row2 col6\" >0.3289</td>\n",
       "    </tr>\n",
       "    <tr>\n",
       "      <th id=\"T_777e1_level0_row3\" class=\"row_heading level0 row3\" >3</th>\n",
       "      <td id=\"T_777e1_row3_col0\" class=\"data row3 col0\" >0.5777</td>\n",
       "      <td id=\"T_777e1_row3_col1\" class=\"data row3 col1\" >0.7977</td>\n",
       "      <td id=\"T_777e1_row3_col2\" class=\"data row3 col2\" >0.5777</td>\n",
       "      <td id=\"T_777e1_row3_col3\" class=\"data row3 col3\" >0.5663</td>\n",
       "      <td id=\"T_777e1_row3_col4\" class=\"data row3 col4\" >0.5692</td>\n",
       "      <td id=\"T_777e1_row3_col5\" class=\"data row3 col5\" >0.3675</td>\n",
       "      <td id=\"T_777e1_row3_col6\" class=\"data row3 col6\" >0.3692</td>\n",
       "    </tr>\n",
       "    <tr>\n",
       "      <th id=\"T_777e1_level0_row4\" class=\"row_heading level0 row4\" >4</th>\n",
       "      <td id=\"T_777e1_row4_col0\" class=\"data row4 col0\" >0.5458</td>\n",
       "      <td id=\"T_777e1_row4_col1\" class=\"data row4 col1\" >0.7538</td>\n",
       "      <td id=\"T_777e1_row4_col2\" class=\"data row4 col2\" >0.5458</td>\n",
       "      <td id=\"T_777e1_row4_col3\" class=\"data row4 col3\" >0.5326</td>\n",
       "      <td id=\"T_777e1_row4_col4\" class=\"data row4 col4\" >0.5370</td>\n",
       "      <td id=\"T_777e1_row4_col5\" class=\"data row4 col5\" >0.3170</td>\n",
       "      <td id=\"T_777e1_row4_col6\" class=\"data row4 col6\" >0.3182</td>\n",
       "    </tr>\n",
       "    <tr>\n",
       "      <th id=\"T_777e1_level0_row5\" class=\"row_heading level0 row5\" >5</th>\n",
       "      <td id=\"T_777e1_row5_col0\" class=\"data row5 col0\" >0.5880</td>\n",
       "      <td id=\"T_777e1_row5_col1\" class=\"data row5 col1\" >0.7699</td>\n",
       "      <td id=\"T_777e1_row5_col2\" class=\"data row5 col2\" >0.5880</td>\n",
       "      <td id=\"T_777e1_row5_col3\" class=\"data row5 col3\" >0.5869</td>\n",
       "      <td id=\"T_777e1_row5_col4\" class=\"data row5 col4\" >0.5838</td>\n",
       "      <td id=\"T_777e1_row5_col5\" class=\"data row5 col5\" >0.3840</td>\n",
       "      <td id=\"T_777e1_row5_col6\" class=\"data row5 col6\" >0.3865</td>\n",
       "    </tr>\n",
       "    <tr>\n",
       "      <th id=\"T_777e1_level0_row6\" class=\"row_heading level0 row6\" >6</th>\n",
       "      <td id=\"T_777e1_row6_col0\" class=\"data row6 col0\" >0.5240</td>\n",
       "      <td id=\"T_777e1_row6_col1\" class=\"data row6 col1\" >0.7369</td>\n",
       "      <td id=\"T_777e1_row6_col2\" class=\"data row6 col2\" >0.5240</td>\n",
       "      <td id=\"T_777e1_row6_col3\" class=\"data row6 col3\" >0.5151</td>\n",
       "      <td id=\"T_777e1_row6_col4\" class=\"data row6 col4\" >0.5169</td>\n",
       "      <td id=\"T_777e1_row6_col5\" class=\"data row6 col5\" >0.2882</td>\n",
       "      <td id=\"T_777e1_row6_col6\" class=\"data row6 col6\" >0.2900</td>\n",
       "    </tr>\n",
       "    <tr>\n",
       "      <th id=\"T_777e1_level0_row7\" class=\"row_heading level0 row7\" >7</th>\n",
       "      <td id=\"T_777e1_row7_col0\" class=\"data row7 col0\" >0.6000</td>\n",
       "      <td id=\"T_777e1_row7_col1\" class=\"data row7 col1\" >0.7801</td>\n",
       "      <td id=\"T_777e1_row7_col2\" class=\"data row7 col2\" >0.6000</td>\n",
       "      <td id=\"T_777e1_row7_col3\" class=\"data row7 col3\" >0.5972</td>\n",
       "      <td id=\"T_777e1_row7_col4\" class=\"data row7 col4\" >0.5935</td>\n",
       "      <td id=\"T_777e1_row7_col5\" class=\"data row7 col5\" >0.4025</td>\n",
       "      <td id=\"T_777e1_row7_col6\" class=\"data row7 col6\" >0.4060</td>\n",
       "    </tr>\n",
       "    <tr>\n",
       "      <th id=\"T_777e1_level0_row8\" class=\"row_heading level0 row8\" >8</th>\n",
       "      <td id=\"T_777e1_row8_col0\" class=\"data row8 col0\" >0.5520</td>\n",
       "      <td id=\"T_777e1_row8_col1\" class=\"data row8 col1\" >0.7814</td>\n",
       "      <td id=\"T_777e1_row8_col2\" class=\"data row8 col2\" >0.5520</td>\n",
       "      <td id=\"T_777e1_row8_col3\" class=\"data row8 col3\" >0.5448</td>\n",
       "      <td id=\"T_777e1_row8_col4\" class=\"data row8 col4\" >0.5461</td>\n",
       "      <td id=\"T_777e1_row8_col5\" class=\"data row8 col5\" >0.3295</td>\n",
       "      <td id=\"T_777e1_row8_col6\" class=\"data row8 col6\" >0.3311</td>\n",
       "    </tr>\n",
       "    <tr>\n",
       "      <th id=\"T_777e1_level0_row9\" class=\"row_heading level0 row9\" >9</th>\n",
       "      <td id=\"T_777e1_row9_col0\" class=\"data row9 col0\" >0.5000</td>\n",
       "      <td id=\"T_777e1_row9_col1\" class=\"data row9 col1\" >0.7419</td>\n",
       "      <td id=\"T_777e1_row9_col2\" class=\"data row9 col2\" >0.5000</td>\n",
       "      <td id=\"T_777e1_row9_col3\" class=\"data row9 col3\" >0.4830</td>\n",
       "      <td id=\"T_777e1_row9_col4\" class=\"data row9 col4\" >0.4836</td>\n",
       "      <td id=\"T_777e1_row9_col5\" class=\"data row9 col5\" >0.2552</td>\n",
       "      <td id=\"T_777e1_row9_col6\" class=\"data row9 col6\" >0.2596</td>\n",
       "    </tr>\n",
       "    <tr>\n",
       "      <th id=\"T_777e1_level0_row10\" class=\"row_heading level0 row10\" >Mean</th>\n",
       "      <td id=\"T_777e1_row10_col0\" class=\"data row10 col0\" >0.5577</td>\n",
       "      <td id=\"T_777e1_row10_col1\" class=\"data row10 col1\" >0.7646</td>\n",
       "      <td id=\"T_777e1_row10_col2\" class=\"data row10 col2\" >0.5577</td>\n",
       "      <td id=\"T_777e1_row10_col3\" class=\"data row10 col3\" >0.5481</td>\n",
       "      <td id=\"T_777e1_row10_col4\" class=\"data row10 col4\" >0.5485</td>\n",
       "      <td id=\"T_777e1_row10_col5\" class=\"data row10 col5\" >0.3386</td>\n",
       "      <td id=\"T_777e1_row10_col6\" class=\"data row10 col6\" >0.3413</td>\n",
       "    </tr>\n",
       "    <tr>\n",
       "      <th id=\"T_777e1_level0_row11\" class=\"row_heading level0 row11\" >Std</th>\n",
       "      <td id=\"T_777e1_row11_col0\" class=\"data row11 col0\" >0.0293</td>\n",
       "      <td id=\"T_777e1_row11_col1\" class=\"data row11 col1\" >0.0192</td>\n",
       "      <td id=\"T_777e1_row11_col2\" class=\"data row11 col2\" >0.0293</td>\n",
       "      <td id=\"T_777e1_row11_col3\" class=\"data row11 col3\" >0.0321</td>\n",
       "      <td id=\"T_777e1_row11_col4\" class=\"data row11 col4\" >0.0311</td>\n",
       "      <td id=\"T_777e1_row11_col5\" class=\"data row11 col5\" >0.0435</td>\n",
       "      <td id=\"T_777e1_row11_col6\" class=\"data row11 col6\" >0.0435</td>\n",
       "    </tr>\n",
       "  </tbody>\n",
       "</table>\n"
      ],
      "text/plain": [
       "<pandas.io.formats.style.Styler at 0x7fa9d83e04c0>"
      ]
     },
     "metadata": {},
     "output_type": "display_data"
    },
    {
     "data": {
      "text/html": [],
      "text/plain": [
       "<IPython.core.display.HTML object>"
      ]
     },
     "metadata": {},
     "output_type": "display_data"
    }
   ],
   "source": [
    "    #3.4 Compare model\n",
    "    best_models = compare_models(sort = 'AUC', n_select = num_of_models)\n",
    "    print(best_models)\n",
    "\n",
    "    #3.5 Ensemble / Blend Model\n",
    "    if num_of_models != 1:\n",
    "        best_model_blend = blend_models(estimator_list=best_models, optimize='AUC')\n",
    "    if num_of_models == 1: \n",
    "        best_model = ensemble_model(\n",
    "            estimator=best_model, \n",
    "        )\n",
    "\n"
   ]
  },
  {
   "cell_type": "code",
   "execution_count": 5,
   "id": "76034665-ffe5-48a5-ba10-82c1ef172088",
   "metadata": {},
   "outputs": [
    {
     "data": {
      "text/html": [],
      "text/plain": [
       "<IPython.core.display.HTML object>"
      ]
     },
     "metadata": {},
     "output_type": "display_data"
    },
    {
     "data": {
      "text/html": [
       "<style type=\"text/css\">\n",
       "#T_dc360_row10_col0, #T_dc360_row10_col1, #T_dc360_row10_col2, #T_dc360_row10_col3, #T_dc360_row10_col4, #T_dc360_row10_col5, #T_dc360_row10_col6 {\n",
       "  background: yellow;\n",
       "}\n",
       "</style>\n",
       "<table id=\"T_dc360\">\n",
       "  <thead>\n",
       "    <tr>\n",
       "      <th class=\"blank level0\" >&nbsp;</th>\n",
       "      <th id=\"T_dc360_level0_col0\" class=\"col_heading level0 col0\" >Accuracy</th>\n",
       "      <th id=\"T_dc360_level0_col1\" class=\"col_heading level0 col1\" >AUC</th>\n",
       "      <th id=\"T_dc360_level0_col2\" class=\"col_heading level0 col2\" >Recall</th>\n",
       "      <th id=\"T_dc360_level0_col3\" class=\"col_heading level0 col3\" >Prec.</th>\n",
       "      <th id=\"T_dc360_level0_col4\" class=\"col_heading level0 col4\" >F1</th>\n",
       "      <th id=\"T_dc360_level0_col5\" class=\"col_heading level0 col5\" >Kappa</th>\n",
       "      <th id=\"T_dc360_level0_col6\" class=\"col_heading level0 col6\" >MCC</th>\n",
       "    </tr>\n",
       "    <tr>\n",
       "      <th class=\"index_name level0\" >Fold</th>\n",
       "      <th class=\"blank col0\" >&nbsp;</th>\n",
       "      <th class=\"blank col1\" >&nbsp;</th>\n",
       "      <th class=\"blank col2\" >&nbsp;</th>\n",
       "      <th class=\"blank col3\" >&nbsp;</th>\n",
       "      <th class=\"blank col4\" >&nbsp;</th>\n",
       "      <th class=\"blank col5\" >&nbsp;</th>\n",
       "      <th class=\"blank col6\" >&nbsp;</th>\n",
       "    </tr>\n",
       "  </thead>\n",
       "  <tbody>\n",
       "    <tr>\n",
       "      <th id=\"T_dc360_level0_row0\" class=\"row_heading level0 row0\" >0</th>\n",
       "      <td id=\"T_dc360_row0_col0\" class=\"data row0 col0\" >0.5339</td>\n",
       "      <td id=\"T_dc360_row0_col1\" class=\"data row0 col1\" >0.7438</td>\n",
       "      <td id=\"T_dc360_row0_col2\" class=\"data row0 col2\" >0.5339</td>\n",
       "      <td id=\"T_dc360_row0_col3\" class=\"data row0 col3\" >0.5193</td>\n",
       "      <td id=\"T_dc360_row0_col4\" class=\"data row0 col4\" >0.5178</td>\n",
       "      <td id=\"T_dc360_row0_col5\" class=\"data row0 col5\" >0.3057</td>\n",
       "      <td id=\"T_dc360_row0_col6\" class=\"data row0 col6\" >0.3111</td>\n",
       "    </tr>\n",
       "    <tr>\n",
       "      <th id=\"T_dc360_level0_row1\" class=\"row_heading level0 row1\" >1</th>\n",
       "      <td id=\"T_dc360_row1_col0\" class=\"data row1 col0\" >0.5737</td>\n",
       "      <td id=\"T_dc360_row1_col1\" class=\"data row1 col1\" >0.7787</td>\n",
       "      <td id=\"T_dc360_row1_col2\" class=\"data row1 col2\" >0.5737</td>\n",
       "      <td id=\"T_dc360_row1_col3\" class=\"data row1 col3\" >0.5547</td>\n",
       "      <td id=\"T_dc360_row1_col4\" class=\"data row1 col4\" >0.5592</td>\n",
       "      <td id=\"T_dc360_row1_col5\" class=\"data row1 col5\" >0.3621</td>\n",
       "      <td id=\"T_dc360_row1_col6\" class=\"data row1 col6\" >0.3652</td>\n",
       "    </tr>\n",
       "    <tr>\n",
       "      <th id=\"T_dc360_level0_row2\" class=\"row_heading level0 row2\" >2</th>\n",
       "      <td id=\"T_dc360_row2_col0\" class=\"data row2 col0\" >0.5618</td>\n",
       "      <td id=\"T_dc360_row2_col1\" class=\"data row2 col1\" >0.7570</td>\n",
       "      <td id=\"T_dc360_row2_col2\" class=\"data row2 col2\" >0.5618</td>\n",
       "      <td id=\"T_dc360_row2_col3\" class=\"data row2 col3\" >0.5582</td>\n",
       "      <td id=\"T_dc360_row2_col4\" class=\"data row2 col4\" >0.5565</td>\n",
       "      <td id=\"T_dc360_row2_col5\" class=\"data row2 col5\" >0.3448</td>\n",
       "      <td id=\"T_dc360_row2_col6\" class=\"data row2 col6\" >0.3470</td>\n",
       "    </tr>\n",
       "    <tr>\n",
       "      <th id=\"T_dc360_level0_row3\" class=\"row_heading level0 row3\" >3</th>\n",
       "      <td id=\"T_dc360_row3_col0\" class=\"data row3 col0\" >0.5777</td>\n",
       "      <td id=\"T_dc360_row3_col1\" class=\"data row3 col1\" >0.7974</td>\n",
       "      <td id=\"T_dc360_row3_col2\" class=\"data row3 col2\" >0.5777</td>\n",
       "      <td id=\"T_dc360_row3_col3\" class=\"data row3 col3\" >0.5651</td>\n",
       "      <td id=\"T_dc360_row3_col4\" class=\"data row3 col4\" >0.5675</td>\n",
       "      <td id=\"T_dc360_row3_col5\" class=\"data row3 col5\" >0.3678</td>\n",
       "      <td id=\"T_dc360_row3_col6\" class=\"data row3 col6\" >0.3702</td>\n",
       "    </tr>\n",
       "    <tr>\n",
       "      <th id=\"T_dc360_level0_row4\" class=\"row_heading level0 row4\" >4</th>\n",
       "      <td id=\"T_dc360_row4_col0\" class=\"data row4 col0\" >0.5378</td>\n",
       "      <td id=\"T_dc360_row4_col1\" class=\"data row4 col1\" >0.7525</td>\n",
       "      <td id=\"T_dc360_row4_col2\" class=\"data row4 col2\" >0.5378</td>\n",
       "      <td id=\"T_dc360_row4_col3\" class=\"data row4 col3\" >0.5247</td>\n",
       "      <td id=\"T_dc360_row4_col4\" class=\"data row4 col4\" >0.5292</td>\n",
       "      <td id=\"T_dc360_row4_col5\" class=\"data row4 col5\" >0.3054</td>\n",
       "      <td id=\"T_dc360_row4_col6\" class=\"data row4 col6\" >0.3065</td>\n",
       "    </tr>\n",
       "    <tr>\n",
       "      <th id=\"T_dc360_level0_row5\" class=\"row_heading level0 row5\" >5</th>\n",
       "      <td id=\"T_dc360_row5_col0\" class=\"data row5 col0\" >0.5920</td>\n",
       "      <td id=\"T_dc360_row5_col1\" class=\"data row5 col1\" >0.7718</td>\n",
       "      <td id=\"T_dc360_row5_col2\" class=\"data row5 col2\" >0.5920</td>\n",
       "      <td id=\"T_dc360_row5_col3\" class=\"data row5 col3\" >0.5921</td>\n",
       "      <td id=\"T_dc360_row5_col4\" class=\"data row5 col4\" >0.5865</td>\n",
       "      <td id=\"T_dc360_row5_col5\" class=\"data row5 col5\" >0.3907</td>\n",
       "      <td id=\"T_dc360_row5_col6\" class=\"data row5 col6\" >0.3945</td>\n",
       "    </tr>\n",
       "    <tr>\n",
       "      <th id=\"T_dc360_level0_row6\" class=\"row_heading level0 row6\" >6</th>\n",
       "      <td id=\"T_dc360_row6_col0\" class=\"data row6 col0\" >0.5240</td>\n",
       "      <td id=\"T_dc360_row6_col1\" class=\"data row6 col1\" >0.7399</td>\n",
       "      <td id=\"T_dc360_row6_col2\" class=\"data row6 col2\" >0.5240</td>\n",
       "      <td id=\"T_dc360_row6_col3\" class=\"data row6 col3\" >0.5151</td>\n",
       "      <td id=\"T_dc360_row6_col4\" class=\"data row6 col4\" >0.5169</td>\n",
       "      <td id=\"T_dc360_row6_col5\" class=\"data row6 col5\" >0.2882</td>\n",
       "      <td id=\"T_dc360_row6_col6\" class=\"data row6 col6\" >0.2900</td>\n",
       "    </tr>\n",
       "    <tr>\n",
       "      <th id=\"T_dc360_level0_row7\" class=\"row_heading level0 row7\" >7</th>\n",
       "      <td id=\"T_dc360_row7_col0\" class=\"data row7 col0\" >0.6000</td>\n",
       "      <td id=\"T_dc360_row7_col1\" class=\"data row7 col1\" >0.7823</td>\n",
       "      <td id=\"T_dc360_row7_col2\" class=\"data row7 col2\" >0.6000</td>\n",
       "      <td id=\"T_dc360_row7_col3\" class=\"data row7 col3\" >0.5960</td>\n",
       "      <td id=\"T_dc360_row7_col4\" class=\"data row7 col4\" >0.5928</td>\n",
       "      <td id=\"T_dc360_row7_col5\" class=\"data row7 col5\" >0.4024</td>\n",
       "      <td id=\"T_dc360_row7_col6\" class=\"data row7 col6\" >0.4060</td>\n",
       "    </tr>\n",
       "    <tr>\n",
       "      <th id=\"T_dc360_level0_row8\" class=\"row_heading level0 row8\" >8</th>\n",
       "      <td id=\"T_dc360_row8_col0\" class=\"data row8 col0\" >0.5600</td>\n",
       "      <td id=\"T_dc360_row8_col1\" class=\"data row8 col1\" >0.7838</td>\n",
       "      <td id=\"T_dc360_row8_col2\" class=\"data row8 col2\" >0.5600</td>\n",
       "      <td id=\"T_dc360_row8_col3\" class=\"data row8 col3\" >0.5527</td>\n",
       "      <td id=\"T_dc360_row8_col4\" class=\"data row8 col4\" >0.5542</td>\n",
       "      <td id=\"T_dc360_row8_col5\" class=\"data row8 col5\" >0.3413</td>\n",
       "      <td id=\"T_dc360_row8_col6\" class=\"data row8 col6\" >0.3426</td>\n",
       "    </tr>\n",
       "    <tr>\n",
       "      <th id=\"T_dc360_level0_row9\" class=\"row_heading level0 row9\" >9</th>\n",
       "      <td id=\"T_dc360_row9_col0\" class=\"data row9 col0\" >0.5040</td>\n",
       "      <td id=\"T_dc360_row9_col1\" class=\"data row9 col1\" >0.7414</td>\n",
       "      <td id=\"T_dc360_row9_col2\" class=\"data row9 col2\" >0.5040</td>\n",
       "      <td id=\"T_dc360_row9_col3\" class=\"data row9 col3\" >0.4872</td>\n",
       "      <td id=\"T_dc360_row9_col4\" class=\"data row9 col4\" >0.4871</td>\n",
       "      <td id=\"T_dc360_row9_col5\" class=\"data row9 col5\" >0.2614</td>\n",
       "      <td id=\"T_dc360_row9_col6\" class=\"data row9 col6\" >0.2663</td>\n",
       "    </tr>\n",
       "    <tr>\n",
       "      <th id=\"T_dc360_level0_row10\" class=\"row_heading level0 row10\" >Mean</th>\n",
       "      <td id=\"T_dc360_row10_col0\" class=\"data row10 col0\" >0.5565</td>\n",
       "      <td id=\"T_dc360_row10_col1\" class=\"data row10 col1\" >0.7649</td>\n",
       "      <td id=\"T_dc360_row10_col2\" class=\"data row10 col2\" >0.5565</td>\n",
       "      <td id=\"T_dc360_row10_col3\" class=\"data row10 col3\" >0.5465</td>\n",
       "      <td id=\"T_dc360_row10_col4\" class=\"data row10 col4\" >0.5468</td>\n",
       "      <td id=\"T_dc360_row10_col5\" class=\"data row10 col5\" >0.3370</td>\n",
       "      <td id=\"T_dc360_row10_col6\" class=\"data row10 col6\" >0.3399</td>\n",
       "    </tr>\n",
       "    <tr>\n",
       "      <th id=\"T_dc360_level0_row11\" class=\"row_heading level0 row11\" >Std</th>\n",
       "      <td id=\"T_dc360_row11_col0\" class=\"data row11 col0\" >0.0293</td>\n",
       "      <td id=\"T_dc360_row11_col1\" class=\"data row11 col1\" >0.0195</td>\n",
       "      <td id=\"T_dc360_row11_col2\" class=\"data row11 col2\" >0.0293</td>\n",
       "      <td id=\"T_dc360_row11_col3\" class=\"data row11 col3\" >0.0329</td>\n",
       "      <td id=\"T_dc360_row11_col4\" class=\"data row11 col4\" >0.0317</td>\n",
       "      <td id=\"T_dc360_row11_col5\" class=\"data row11 col5\" >0.0435</td>\n",
       "      <td id=\"T_dc360_row11_col6\" class=\"data row11 col6\" >0.0434</td>\n",
       "    </tr>\n",
       "  </tbody>\n",
       "</table>\n"
      ],
      "text/plain": [
       "<pandas.io.formats.style.Styler at 0x7fa9e0191190>"
      ]
     },
     "metadata": {},
     "output_type": "display_data"
    },
    {
     "data": {
      "text/html": [],
      "text/plain": [
       "<IPython.core.display.HTML object>"
      ]
     },
     "metadata": {},
     "output_type": "display_data"
    },
    {
     "name": "stdout",
     "output_type": "stream",
     "text": [
      "Fitting 10 folds for each of 10 candidates, totalling 100 fits\n"
     ]
    }
   ],
   "source": [
    "    #3.6 Tune Model\n",
    "    best_model_tune = tune_model (best_model_blend, optimize ='AUC') "
   ]
  },
  {
   "cell_type": "code",
   "execution_count": 6,
   "id": "e0785b06-b97a-49de-a6b0-e7bd12198d7a",
   "metadata": {},
   "outputs": [
    {
     "data": {
      "application/vnd.jupyter.widget-view+json": {
       "model_id": "0dc7f9f6fe964d208091f6757cf0cf45",
       "version_major": 2,
       "version_minor": 0
      },
      "text/plain": [
       "interactive(children=(ToggleButtons(description='Plot Type:', icons=('',), options=(('Pipeline Plot', 'pipelin…"
      ]
     },
     "metadata": {},
     "output_type": "display_data"
    },
    {
     "data": {
      "application/vnd.jupyter.widget-view+json": {
       "model_id": "9351304f966548508f4217a4c1dcfa1c",
       "version_major": 2,
       "version_minor": 0
      },
      "text/plain": [
       "interactive(children=(ToggleButtons(description='Plot Type:', icons=('',), options=(('Pipeline Plot', 'pipelin…"
      ]
     },
     "metadata": {},
     "output_type": "display_data"
    },
    {
     "data": {
      "application/vnd.jupyter.widget-view+json": {
       "model_id": "89f72350c10f476db2dee24864dee102",
       "version_major": 2,
       "version_minor": 0
      },
      "text/plain": [
       "interactive(children=(ToggleButtons(description='Plot Type:', icons=('',), options=(('Pipeline Plot', 'pipelin…"
      ]
     },
     "metadata": {},
     "output_type": "display_data"
    }
   ],
   "source": [
    "    #3.7 Evaluate Model   \n",
    "    evaluate_model(best_models[0])\n",
    "    evaluate_model(best_models[1])\n",
    "    evaluate_model(best_models[2])"
   ]
  },
  {
   "cell_type": "code",
   "execution_count": null,
   "id": "5c687c2f-7974-4763-af8c-c60bf72fdfc0",
   "metadata": {},
   "outputs": [],
   "source": [
    "\n",
    "    # Function to save plots\n",
    "    def save_model_plots(model, plot_types, model_name):\n",
    "        # Create a directory for the model's plots\n",
    "        os.makedirs(f\"{model_name}_figures\", exist_ok=True)\n",
    "    \n",
    "        for plot_type in plot_types:\n",
    "            try:\n",
    "                save_path = f\"{model_name}_figures/\"\n",
    "                plot_model(model, plot=plot_type, save=save_path)\n",
    "                print(f\"Plot '{plot_type}' saved successfully in {save_path}.\")\n",
    "            except Exception as e:\n",
    "                print(f\"Failed to save plot '{plot_type}'. Error: {e}\")\n",
    "\n",
    "\n",
    "    plot_types = ['auc', 'confusion_matrix', 'threshold', 'pr', 'error', 'class_report', \n",
    "                  'boundary', 'learning', 'manifold', 'calibration', 'vc', 'dimension', \n",
    "                  'feature', 'parameter', 'lift', 'gain', 'tree', 'ks']\n",
    "    model_names = [model.__class__.__name__ for model in best_models]\n",
    "    print(model_names)\n",
    "    if save_figure == True:\n",
    "        count = 0\n",
    "        for model_name in model_names:\n",
    "            save_model_plots(best_models[count], plot_types,model_name)\n",
    "            count +=1\n"
   ]
  },
  {
   "cell_type": "code",
   "execution_count": 22,
   "id": "0d1ead58-53cb-4a86-9ad9-436654f911fc",
   "metadata": {
    "scrolled": true
   },
   "outputs": [
    {
     "data": {
      "application/vnd.jupyter.widget-view+json": {
       "model_id": "fe77aeea7ffb4ccfac9e35c9dea9691f",
       "version_major": 2,
       "version_minor": 0
      },
      "text/plain": [
       "interactive(children=(ToggleButtons(description='Plot Type:', icons=('',), options=(('Pipeline Plot', 'pipelin…"
      ]
     },
     "metadata": {},
     "output_type": "display_data"
    },
    {
     "data": {
      "text/html": [],
      "text/plain": [
       "<IPython.core.display.HTML object>"
      ]
     },
     "metadata": {},
     "output_type": "display_data"
    },
    {
     "name": "stdout",
     "output_type": "stream",
     "text": [
      "Plot 'auc' saved successfully in Best_model_figures/.\n"
     ]
    },
    {
     "data": {
      "text/html": [],
      "text/plain": [
       "<IPython.core.display.HTML object>"
      ]
     },
     "metadata": {},
     "output_type": "display_data"
    },
    {
     "name": "stdout",
     "output_type": "stream",
     "text": [
      "Plot 'confusion_matrix' saved successfully in Best_model_figures/.\n",
      "Failed to save plot 'threshold'. Error: Plot Not Available for multiclass problems. Please see docstring for list of available Plots.\n"
     ]
    },
    {
     "data": {
      "text/html": [],
      "text/plain": [
       "<IPython.core.display.HTML object>"
      ]
     },
     "metadata": {},
     "output_type": "display_data"
    },
    {
     "name": "stdout",
     "output_type": "stream",
     "text": [
      "Plot 'pr' saved successfully in Best_model_figures/.\n"
     ]
    },
    {
     "data": {
      "text/html": [],
      "text/plain": [
       "<IPython.core.display.HTML object>"
      ]
     },
     "metadata": {},
     "output_type": "display_data"
    },
    {
     "name": "stdout",
     "output_type": "stream",
     "text": [
      "Plot 'error' saved successfully in Best_model_figures/.\n"
     ]
    },
    {
     "data": {
      "text/html": [],
      "text/plain": [
       "<IPython.core.display.HTML object>"
      ]
     },
     "metadata": {},
     "output_type": "display_data"
    },
    {
     "name": "stdout",
     "output_type": "stream",
     "text": [
      "Plot 'class_report' saved successfully in Best_model_figures/.\n"
     ]
    },
    {
     "data": {
      "text/html": [],
      "text/plain": [
       "<IPython.core.display.HTML object>"
      ]
     },
     "metadata": {},
     "output_type": "display_data"
    },
    {
     "name": "stdout",
     "output_type": "stream",
     "text": [
      "Plot 'boundary' saved successfully in Best_model_figures/.\n"
     ]
    },
    {
     "data": {
      "text/html": [],
      "text/plain": [
       "<IPython.core.display.HTML object>"
      ]
     },
     "metadata": {},
     "output_type": "display_data"
    },
    {
     "name": "stdout",
     "output_type": "stream",
     "text": [
      "Plot 'learning' saved successfully in Best_model_figures/.\n",
      "Failed to save plot 'manifold'. Error: Plot Not Available for multiclass problems. Please see docstring for list of available Plots.\n",
      "Failed to save plot 'calibration'. Error: Plot Not Available for multiclass problems. Please see docstring for list of available Plots.\n"
     ]
    },
    {
     "data": {
      "text/html": [],
      "text/plain": [
       "<IPython.core.display.HTML object>"
      ]
     },
     "metadata": {},
     "output_type": "display_data"
    },
    {
     "name": "stdout",
     "output_type": "stream",
     "text": [
      "Failed to save plot 'vc'. Error: Plot not supported for this estimator. Try different estimator.\n"
     ]
    },
    {
     "data": {
      "text/html": [],
      "text/plain": [
       "<IPython.core.display.HTML object>"
      ]
     },
     "metadata": {},
     "output_type": "display_data"
    },
    {
     "name": "stdout",
     "output_type": "stream",
     "text": [
      "Plot 'dimension' saved successfully in Best_model_figures/.\n",
      "Failed to save plot 'feature'. Error: Feature Importance and RFE plots not available for estimators that doesnt support coef_ or feature_importances_ attribute.\n"
     ]
    },
    {
     "data": {
      "text/html": [],
      "text/plain": [
       "<IPython.core.display.HTML object>"
      ]
     },
     "metadata": {},
     "output_type": "display_data"
    },
    {
     "data": {
      "text/html": [
       "<div>\n",
       "<style scoped>\n",
       "    .dataframe tbody tr th:only-of-type {\n",
       "        vertical-align: middle;\n",
       "    }\n",
       "\n",
       "    .dataframe tbody tr th {\n",
       "        vertical-align: top;\n",
       "    }\n",
       "\n",
       "    .dataframe thead th {\n",
       "        text-align: right;\n",
       "    }\n",
       "</style>\n",
       "<table border=\"1\" class=\"dataframe\">\n",
       "  <thead>\n",
       "    <tr style=\"text-align: right;\">\n",
       "      <th></th>\n",
       "      <th>Parameters</th>\n",
       "    </tr>\n",
       "  </thead>\n",
       "  <tbody>\n",
       "    <tr>\n",
       "      <th>estimators</th>\n",
       "      <td>[('Logistic Regression', LogisticRegression(C=...</td>\n",
       "    </tr>\n",
       "    <tr>\n",
       "      <th>flatten_transform</th>\n",
       "      <td>True</td>\n",
       "    </tr>\n",
       "    <tr>\n",
       "      <th>n_jobs</th>\n",
       "      <td>-1</td>\n",
       "    </tr>\n",
       "    <tr>\n",
       "      <th>verbose</th>\n",
       "      <td>False</td>\n",
       "    </tr>\n",
       "    <tr>\n",
       "      <th>voting</th>\n",
       "      <td>soft</td>\n",
       "    </tr>\n",
       "    <tr>\n",
       "      <th>weights</th>\n",
       "      <td>[0.37, 0.09, 0.22]</td>\n",
       "    </tr>\n",
       "  </tbody>\n",
       "</table>\n",
       "</div>"
      ],
      "text/plain": [
       "                                                          Parameters\n",
       "estimators         [('Logistic Regression', LogisticRegression(C=...\n",
       "flatten_transform                                               True\n",
       "n_jobs                                                            -1\n",
       "verbose                                                        False\n",
       "voting                                                          soft\n",
       "weights                                           [0.37, 0.09, 0.22]"
      ]
     },
     "metadata": {},
     "output_type": "display_data"
    },
    {
     "name": "stdout",
     "output_type": "stream",
     "text": [
      "Plot 'parameter' saved successfully in Best_model_figures/.\n"
     ]
    },
    {
     "data": {
      "text/html": [],
      "text/plain": [
       "<IPython.core.display.HTML object>"
      ]
     },
     "metadata": {},
     "output_type": "display_data"
    },
    {
     "name": "stdout",
     "output_type": "stream",
     "text": [
      "Failed to save plot 'lift'. Error: Cannot calculate Lift Curve for data with 3 category/ies\n"
     ]
    },
    {
     "data": {
      "text/html": [],
      "text/plain": [
       "<IPython.core.display.HTML object>"
      ]
     },
     "metadata": {},
     "output_type": "display_data"
    },
    {
     "name": "stdout",
     "output_type": "stream",
     "text": [
      "Failed to save plot 'gain'. Error: Cannot calculate Cumulative Gains for data with 3 category/ies\n",
      "Failed to save plot 'tree'. Error: Decision Tree plot is only available for scikit-learn Decision Trees and Forests, Ensemble models using those or Stacked models using those as meta (final) estimators.\n"
     ]
    },
    {
     "data": {
      "text/html": [],
      "text/plain": [
       "<IPython.core.display.HTML object>"
      ]
     },
     "metadata": {},
     "output_type": "display_data"
    },
    {
     "name": "stdout",
     "output_type": "stream",
     "text": [
      "Failed to save plot 'ks'. Error: Cannot calculate KS statistic for data with 3 category/ies\n"
     ]
    }
   ],
   "source": [
    "    evaluate_model(best_model_tune)\n",
    "    if save_figure == True:\n",
    "        save_model_plots(best_model_tune, plot_types,'Best_model_val')"
   ]
  },
  {
   "cell_type": "code",
   "execution_count": 23,
   "id": "4e96bbd3-fd06-4a08-a532-90d0fb387f60",
   "metadata": {},
   "outputs": [],
   "source": [
    "    #3.8 Finalize Model      \n",
    "    final_model = finalize_model(best_model_tune)"
   ]
  },
  {
   "cell_type": "code",
   "execution_count": 41,
   "id": "14280f5c-4958-4915-b398-c96bb16ce7c3",
   "metadata": {},
   "outputs": [
    {
     "data": {
      "text/html": [
       "<style type=\"text/css\">\n",
       "</style>\n",
       "<table id=\"T_b3b2d\">\n",
       "  <thead>\n",
       "    <tr>\n",
       "      <th class=\"blank level0\" >&nbsp;</th>\n",
       "      <th id=\"T_b3b2d_level0_col0\" class=\"col_heading level0 col0\" >Model</th>\n",
       "      <th id=\"T_b3b2d_level0_col1\" class=\"col_heading level0 col1\" >Accuracy</th>\n",
       "      <th id=\"T_b3b2d_level0_col2\" class=\"col_heading level0 col2\" >AUC</th>\n",
       "      <th id=\"T_b3b2d_level0_col3\" class=\"col_heading level0 col3\" >Recall</th>\n",
       "      <th id=\"T_b3b2d_level0_col4\" class=\"col_heading level0 col4\" >Prec.</th>\n",
       "      <th id=\"T_b3b2d_level0_col5\" class=\"col_heading level0 col5\" >F1</th>\n",
       "      <th id=\"T_b3b2d_level0_col6\" class=\"col_heading level0 col6\" >Kappa</th>\n",
       "      <th id=\"T_b3b2d_level0_col7\" class=\"col_heading level0 col7\" >MCC</th>\n",
       "    </tr>\n",
       "  </thead>\n",
       "  <tbody>\n",
       "    <tr>\n",
       "      <th id=\"T_b3b2d_level0_row0\" class=\"row_heading level0 row0\" >0</th>\n",
       "      <td id=\"T_b3b2d_row0_col0\" class=\"data row0 col0\" >Voting Classifier</td>\n",
       "      <td id=\"T_b3b2d_row0_col1\" class=\"data row0 col1\" >0.5490</td>\n",
       "      <td id=\"T_b3b2d_row0_col2\" class=\"data row0 col2\" >0.7397</td>\n",
       "      <td id=\"T_b3b2d_row0_col3\" class=\"data row0 col3\" >0.5490</td>\n",
       "      <td id=\"T_b3b2d_row0_col4\" class=\"data row0 col4\" >0.5378</td>\n",
       "      <td id=\"T_b3b2d_row0_col5\" class=\"data row0 col5\" >0.5381</td>\n",
       "      <td id=\"T_b3b2d_row0_col6\" class=\"data row0 col6\" >0.3262</td>\n",
       "      <td id=\"T_b3b2d_row0_col7\" class=\"data row0 col7\" >0.3295</td>\n",
       "    </tr>\n",
       "  </tbody>\n",
       "</table>\n"
      ],
      "text/plain": [
       "<pandas.io.formats.style.Styler at 0x7fa9ec7f3640>"
      ]
     },
     "metadata": {},
     "output_type": "display_data"
    },
    {
     "name": "stdout",
     "output_type": "stream",
     "text": [
      "      Length  Diameter  Height  Whole_weight  Shucked_weight  Viscera_weight  \\\n",
      "2681   0.620     0.490   0.155        1.1000          0.5050          0.2475   \n",
      "2046   0.415     0.305   0.120        0.3360          0.1650          0.0760   \n",
      "3474   0.355     0.265   0.085        0.2435          0.1220          0.0525   \n",
      "3563   0.575     0.455   0.155        0.8725          0.3490          0.2095   \n",
      "1439   0.405     0.310   0.095        0.3425          0.1785          0.0640   \n",
      "...      ...       ...     ...           ...             ...             ...   \n",
      "269    0.450     0.360   0.125        0.4995          0.2035          0.1000   \n",
      "754    0.650     0.515   0.175        1.4805          0.5295          0.2720   \n",
      "2181   0.535     0.420   0.165        0.9195          0.3355          0.1985   \n",
      "292    0.610     0.475   0.165        1.1160          0.4280          0.2205   \n",
      "4109   0.480     0.365   0.130        0.5305          0.2405          0.1270   \n",
      "\n",
      "      Shell_weight  Rings  Sex prediction_label  prediction_score  \n",
      "2681        0.3100      9    2                F            0.5148  \n",
      "2046        0.0805      7    1                I            0.7993  \n",
      "3474        0.0600      6    1                I            0.8837  \n",
      "3563        0.2850      8    1                M            0.4211  \n",
      "1439        0.0855      8    1                I            0.8159  \n",
      "...            ...    ...  ...              ...               ...  \n",
      "269         0.1700     13    0                M            0.4924  \n",
      "754         0.5250     20    2                F            0.5014  \n",
      "2181        0.2600     16    2                M            0.4684  \n",
      "292         0.3150     15    2                F            0.5354  \n",
      "4109        0.1390      8    2                I            0.6053  \n",
      "\n",
      "[836 rows x 11 columns]\n",
      "2681    F\n",
      "2046    I\n",
      "3474    I\n",
      "3563    M\n",
      "1439    I\n",
      "       ..\n",
      "269     M\n",
      "754     F\n",
      "2181    M\n",
      "292     F\n",
      "4109    I\n",
      "Name: prediction_label, Length: 836, dtype: object\n",
      "Accuracy: 0.5490430622009569\n",
      "Precision: 0.5377936820661279\n",
      "Recall: 0.5490430622009569\n",
      "F1 Score: 0.5380637777189236\n",
      "\n",
      "Confusion Matrix:\n",
      "[[140  35  91]\n",
      " [ 29 215  26]\n",
      " [131  65 104]]\n",
      "\n",
      "Classification Report:\n",
      "              precision    recall  f1-score   support\n",
      "\n",
      "           F       0.47      0.53      0.49       266\n",
      "           I       0.68      0.80      0.74       270\n",
      "           M       0.47      0.35      0.40       300\n",
      "\n",
      "    accuracy                           0.55       836\n",
      "   macro avg       0.54      0.56      0.54       836\n",
      "weighted avg       0.54      0.55      0.54       836\n",
      "\n"
     ]
    }
   ],
   "source": [
    "    #4.1 Testing data ================================================================\n",
    "    predictions = predict_model(final_model, data=test_data)\n",
    "    print(predictions)\n",
    "\n",
    "    # Get the actual labels\n",
    "    actual_labels = test_data[ground_truth]  \n",
    "    \n",
    "    # Get the predicted labels from the predictions DataFrame\n",
    "    predicted_labels = predictions['prediction_label']\n",
    "\n",
    "  \n",
    "    # Calculate various performance metrics\n",
    "    accuracy = accuracy_score(actual_labels, predicted_labels)\n",
    "    precision = precision_score(actual_labels, predicted_labels, average='weighted')  \n",
    "    recall = recall_score(actual_labels, predicted_labels, average='weighted')       \n",
    "    f1 = f1_score(actual_labels, predicted_labels, average='weighted')               \n",
    "    \n",
    "    # Print the performance metrics\n",
    "    print(f\"Accuracy: {accuracy}\")\n",
    "    print(f\"Precision: {precision}\")\n",
    "    print(f\"Recall: {recall}\")\n",
    "    print(f\"F1 Score: {f1}\")\n",
    "\n",
    "    from sklearn.metrics import confusion_matrix, classification_report, roc_auc_score\n",
    "    \n",
    "    cm = confusion_matrix(actual_labels, predicted_labels)\n",
    "    cr = classification_report(actual_labels, predicted_labels)\n",
    "    \n",
    "    print(\"\\nConfusion Matrix:\")\n",
    "    print(cm)\n",
    "    print(\"\\nClassification Report:\")\n",
    "    print(cr)\n",
    "\n",
    "\n",
    "   \n"
   ]
  },
  {
   "cell_type": "code",
   "execution_count": null,
   "id": "be43d8c5-8849-4d58-b005-fc8f7f7cd5f0",
   "metadata": {},
   "outputs": [],
   "source": [
    "    save_model(final_model, 'abolone_model_'+str(Prediction_label))"
   ]
  },
  {
   "cell_type": "code",
   "execution_count": null,
   "id": "bb5984ba-e416-4f78-902c-6d1a6542fea4",
   "metadata": {},
   "outputs": [],
   "source": [
    "#OTHER INFORMATION\n",
    "    def plot_lda_variance(lda_model):\n",
    "        plt.figure(figsize=(8, 4))\n",
    "        plt.bar(range(1, len(lda_model.explained_variance_ratio_) + 1), lda_model.explained_variance_ratio_)\n",
    "        plt.title('Explained Variance Ratio of LDA Components')\n",
    "        plt.xlabel('Components')\n",
    "        plt.ylabel('Explained Variance')\n",
    "        plt.show() \n",
    "        \n",
    "    def plot_feature_importance_rf(rf_model, feature_names):\n",
    "        importances = rf_model.feature_importances_\n",
    "        indices = sorted(range(len(importances)), key=lambda i: importances[i], reverse=True)\n",
    "        sns.barplot(x=[importances[i] for i in indices], y=[feature_names[i] for i in indices])\n",
    "        plt.title('Feature Importance in Random Forest')\n",
    "        plt.xlabel('Importance')\n",
    "        plt.ylabel('Feature')\n",
    "        plt.show()\n",
    "        \n",
    "    def plot_log_reg_coefficients(log_reg_model, feature_names):\n",
    "        coeffs = log_reg_model.coef_[0]\n",
    "        indices = np.argsort(np.abs(coeffs))\n",
    "        plt.figure(figsize=(8, 6))\n",
    "        plt.barh(np.array(feature_names)[indices], coeffs[indices])\n",
    "        plt.xlabel('Coefficients')\n",
    "        plt.ylabel('Features')\n",
    "        plt.title('Logistic Regression Coefficients')\n",
    "        plt.show()\n",
    "        \n",
    "    def plot_log_reg_odds_ratios(log_reg_model, feature_names):\n",
    "        odds_ratios = np.exp(log_reg_model.coef_[0])\n",
    "        indices = np.argsort(odds_ratios)\n",
    "        plt.figure(figsize=(8, 6))\n",
    "        plt.barh(np.array(feature_names)[indices], odds_ratios[indices])\n",
    "        plt.xlabel('Odds Ratios')\n",
    "        plt.ylabel('Features')\n",
    "        plt.title('Odds Ratios of Logistic Regression Coefficients')\n",
    "        plt.show()\n",
    "        \n",
    "    model_names = [model.__class__.__name__ for model in best_models]\n",
    "    transformed_dataset = get_config('X_train_transformed')\n",
    "    feature_names = transformed_dataset.columns\n",
    "    print(feature_names)\n",
    "    # Printing the model names\n",
    "    count =0\n",
    "    for name in model_names:\n",
    "        print('MODEL TYPE:',name)\n",
    "        info_model = best_models[count]\n",
    "        if name == 'LinearDiscriminantAnalysis':\n",
    "            explained_variance_ratio = lda_model.explained_variance_ratio_\n",
    "            print(\"Explained Variance Ratio:\", explained_variance_ratio)\n",
    "            coefficients = info_model.coef_\n",
    "            print(\"Coefficients:\", coefficients)\n",
    "            plot_lda_variance(info_model)\n",
    "            \n",
    "        if name == 'LogisticRegression':\n",
    "            plot_log_reg_coefficients(info_model, feature_names)\n",
    "            plot_log_reg_odds_ratios(info_model, feature_names)\n",
    "            \n",
    "        if name == 'RandomForest':\n",
    "            plot_feature_importance_rf(rf_model, feature_names)\n",
    "        count+=1\n",
    "        "
   ]
  }
 ],
 "metadata": {
  "kernelspec": {
   "display_name": "Python 3 (ipykernel)",
   "language": "python",
   "name": "python3"
  },
  "language_info": {
   "codemirror_mode": {
    "name": "ipython",
    "version": 3
   },
   "file_extension": ".py",
   "mimetype": "text/x-python",
   "name": "python",
   "nbconvert_exporter": "python",
   "pygments_lexer": "ipython3",
   "version": "3.9.18"
  }
 },
 "nbformat": 4,
 "nbformat_minor": 5
}
