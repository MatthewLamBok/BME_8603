{
 "cells": [
  {
   "cell_type": "code",
   "execution_count": 32,
   "id": "d4be8e86-59f8-4ee4-b7eb-f20c61b1f4d4",
   "metadata": {},
   "outputs": [],
   "source": [
    "import pandas as pd\n",
    "from sklearn.preprocessing import StandardScaler, MinMaxScaler\n",
    "from sklearn.model_selection import train_test_split\n",
    "from imblearn.over_sampling import SMOTE\n",
    "import matplotlib.pyplot as plt\n",
    "from pycaret.classification import *\n",
    "from pycaret.classification import *\n",
    "import function_script\n",
    "import seaborn as sns\n",
    "import os"
   ]
  },
  {
   "cell_type": "code",
   "execution_count": 33,
   "id": "71f8c850-5b57-48fb-8b8e-c2d3a4a78b7c",
   "metadata": {},
   "outputs": [],
   "source": [
    "\n",
    "\n",
    "if __name__ == \"__main__\":\n",
    "    #Parameter\n",
    "    target_csv  = 'abalone'#['abalone','50_50', 'fill']\n",
    "    ground_truth = 'Sex' #['Sex', 'Diabetes_binary']\n",
    "    Prediction_label = 'All' #['M_F', 'All'] \n",
    "\n",
    "    #1.1 Load ============================================================\n",
    "    if target_csv == 'fill':\n",
    "        data = pd.read_csv('../data/diabetes_binary_health_indicators_BRFSS2015.csv')\n",
    "    if target_csv == '50_50':\n",
    "        data = pd.read_csv('../data/diabetes_binary_5050split_health_indicators_BRFSS2015.csv')\n",
    "    if target_csv == 'abalone':\n",
    "        data = pd.read_csv('../data/abalone.csv')\n",
    "\n",
    "    #2.1 Load Label ['M_F', 'All']  ============================================================        \n",
    "    if target_csv == 'abalone' and Prediction_label == 'M_F':\n",
    "        data = data[data['Sex'] != 'I']\n",
    "    \n"
   ]
  },
  {
   "cell_type": "code",
   "execution_count": 36,
   "id": "09c0e427-06f1-4ae7-86a2-2bf9fe865649",
   "metadata": {},
   "outputs": [
    {
     "ename": "TypeError",
     "evalue": "info_display() takes 0 positional arguments but 1 was given",
     "output_type": "error",
     "traceback": [
      "\u001b[0;31m---------------------------------------------------------------------------\u001b[0m",
      "\u001b[0;31mTypeError\u001b[0m                                 Traceback (most recent call last)",
      "Cell \u001b[0;32mIn[36], line 1\u001b[0m\n\u001b[0;32m----> 1\u001b[0m \u001b[43minfo_display\u001b[49m\u001b[43m(\u001b[49m\u001b[43mdata\u001b[49m\u001b[43m)\u001b[49m\n",
      "\u001b[0;31mTypeError\u001b[0m: info_display() takes 0 positional arguments but 1 was given"
     ]
    }
   ],
   "source": [
    "    info_display(data)"
   ]
  },
  {
   "cell_type": "markdown",
   "id": "40617d29-3795-4ee9-a372-956cb737a0f0",
   "metadata": {},
   "source": [
    "Descriptive Statistics:\n",
    "\n",
    "    Length, Diameter, Height, Whole weight, Shucked weight, Viscera weight, Shell weight: The mean, std (standard deviation), and other descriptive statistics give you a sense of the central tendency and spread of these continuous variables. For example, the average length of an abalone is about 0.524 units, with a standard deviation of 0.120 units, which indicates moderate variability.\n",
    "    Rings: The count of rings, which is a proxy for age, has a wide range, from 1 to 29, but most of the abalones have between 8 and 11 rings.\n",
    "\n",
    "Missing Values:\n",
    "\n",
    "    It seems there are no missing values in the dataset, which is good news for your analysis and means you don't have to perform imputation.\n",
    "\n",
    "Sex Distribution:\n",
    "\n",
    "    The counts for each sex ('M': 1528, 'I': 1342, 'F': 1307) show that there is a moderate balance between the classes, though not perfect. 'M' is slightly overrepresented compared to 'F' and 'I'. This should be considered when modeling, as you may need to ensure that the training process does not become biased towards the majority class.\n",
    "\n",
    "Encoded Sex Column:\n",
    "\n",
    "    The 'Sex' column has been encoded into numerical values (assuming 'M' -> 2, 'F' -> 0, 'I' -> 1). This is essential for most machine learning models as they require numerical input.\n",
    "\n",
    "New Feature - Size Category:\n",
    "\n",
    "    A new categorical feature called Size_Category has been created based on the Length variable. It's important to see if this new feature offers any significant distinction between the different sexes. You might want to use a chi-squared test or similar statistical methods to assess the independence between Size_Category and Sex.\n",
    "\n",
    "When performing EDA, your goal is to get an understanding of the data, which will inform your preprocessing steps and model choice. For instance:\n",
    "\n",
    "    If certain features are heavily skewed, you might need to transform them to have a more normal distribution.\n",
    "    If there are outliers, you may need to decide whether to keep, modify, or remove them.\n",
    "    Understanding the balance of the classes ('M', 'F', 'I') will inform you about the potential need for stratified sampling or rebalancing techniques when splitting the data for training and testing.\n",
    "\n",
    "Moreover, if you have performed any visualizations like histograms, scatter plots, or box plots:\n",
    "\n",
    "    Histograms would let you see the distribution of individual variables.\n",
    "    Scatter plots would show the relationships between pairs of variables.\n",
    "    Box plots would help identify outliers and the spread of the data across the Sex categories.\n",
    "\n"
   ]
  }
 ],
 "metadata": {
  "kernelspec": {
   "display_name": "Python 3 (ipykernel)",
   "language": "python",
   "name": "python3"
  },
  "language_info": {
   "codemirror_mode": {
    "name": "ipython",
    "version": 3
   },
   "file_extension": ".py",
   "mimetype": "text/x-python",
   "name": "python",
   "nbconvert_exporter": "python",
   "pygments_lexer": "ipython3",
   "version": "3.9.18"
  }
 },
 "nbformat": 4,
 "nbformat_minor": 5
}
